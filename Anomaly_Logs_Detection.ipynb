{
  "nbformat": 4,
  "nbformat_minor": 0,
  "metadata": {
    "kernelspec": {
      "display_name": "Python 3",
      "language": "python",
      "name": "python3"
    },
    "language_info": {
      "codemirror_mode": {
        "name": "ipython",
        "version": 3
      },
      "file_extension": ".py",
      "mimetype": "text/x-python",
      "name": "python",
      "nbconvert_exporter": "python",
      "pygments_lexer": "ipython3",
      "version": "3.7.4"
    },
    "colab": {
      "name": "Updated Anomaly Detection.ipynb",
      "provenance": []
    }
  },
  "cells": [
    {
      "cell_type": "markdown",
      "metadata": {
        "id": "VpeCYrprlV06"
      },
      "source": [
        "# Import Neccessary Librabies"
      ]
    },
    {
      "cell_type": "code",
      "metadata": {
        "id": "xQ0hJyr-lV0_"
      },
      "source": [
        "import pandas as pd\n",
        "import numpy as np\n",
        "import datetime as dt\n",
        "import random\n",
        "\n",
        "import matplotlib.pyplot as plt\n",
        "%matplotlib inline\n",
        "\n",
        "plt.style.use('ggplot')\n",
        "import matplotlib.style as style\n",
        "style.use('fivethirtyeight')\n",
        "plt.rcParams['figure.figsize'] = (15, 8)\n",
        "\n",
        "\n",
        "from sklearn import preprocessing\n",
        "from sklearn.decomposition import PCA\n",
        "import warnings\n",
        "warnings.filterwarnings('ignore')"
      ],
      "execution_count": null,
      "outputs": []
    },
    {
      "cell_type": "code",
      "metadata": {
        "id": "DZIVG7e3lV1D"
      },
      "source": [
        "df=pd.read_csv(\"logs_dataset.csv\")"
      ],
      "execution_count": null,
      "outputs": []
    },
    {
      "cell_type": "code",
      "metadata": {
        "id": "0f_CgJN3lV1E",
        "outputId": "8babecb8-c3fe-4386-928b-b8fcd6d1a08a"
      },
      "source": [
        "df"
      ],
      "execution_count": null,
      "outputs": [
        {
          "data": {
            "text/html": [
              "<div>\n",
              "<style scoped>\n",
              "    .dataframe tbody tr th:only-of-type {\n",
              "        vertical-align: middle;\n",
              "    }\n",
              "\n",
              "    .dataframe tbody tr th {\n",
              "        vertical-align: top;\n",
              "    }\n",
              "\n",
              "    .dataframe thead th {\n",
              "        text-align: right;\n",
              "    }\n",
              "</style>\n",
              "<table border=\"1\" class=\"dataframe\">\n",
              "  <thead>\n",
              "    <tr style=\"text-align: right;\">\n",
              "      <th></th>\n",
              "      <th>@timestamp</th>\n",
              "      <th>_id</th>\n",
              "      <th>ip_address</th>\n",
              "    </tr>\n",
              "  </thead>\n",
              "  <tbody>\n",
              "    <tr>\n",
              "      <th>0</th>\n",
              "      <td>July 8th 2019, 14:43:03.000</td>\n",
              "      <td>XswJ0msBoTGddM7vxMDB</td>\n",
              "      <td>10.1.1.285</td>\n",
              "    </tr>\n",
              "    <tr>\n",
              "      <th>1</th>\n",
              "      <td>July 8th 2019, 14:43:01.000</td>\n",
              "      <td>dKQJ0msB7mP0GwVzvJjz</td>\n",
              "      <td>10.1.2.389</td>\n",
              "    </tr>\n",
              "    <tr>\n",
              "      <th>2</th>\n",
              "      <td>July 8th 2019, 14:42:59.000</td>\n",
              "      <td>CcwJ0msBoTGddM7vtb8y</td>\n",
              "      <td>10.1.1.415</td>\n",
              "    </tr>\n",
              "    <tr>\n",
              "      <th>3</th>\n",
              "      <td>July 8th 2019, 14:42:57.000</td>\n",
              "      <td>bKQJ0msB7mP0GwVzrZdT</td>\n",
              "      <td>10.1.1.79</td>\n",
              "    </tr>\n",
              "    <tr>\n",
              "      <th>4</th>\n",
              "      <td>July 8th 2019, 14:42:55.000</td>\n",
              "      <td>L6QJ0msB7mP0GwVzpZeI</td>\n",
              "      <td>10.1.1.60</td>\n",
              "    </tr>\n",
              "    <tr>\n",
              "      <th>...</th>\n",
              "      <td>...</td>\n",
              "      <td>...</td>\n",
              "      <td>...</td>\n",
              "    </tr>\n",
              "    <tr>\n",
              "      <th>721542</th>\n",
              "      <td>June 9th 2019, 00:00:25.000</td>\n",
              "      <td>dkWJOWsBoTGddM7vRUOR</td>\n",
              "      <td>10.1.2.66</td>\n",
              "    </tr>\n",
              "    <tr>\n",
              "      <th>721543</th>\n",
              "      <td>June 9th 2019, 00:00:19.000</td>\n",
              "      <td>TBuJOWsB7mP0GwVzLmol</td>\n",
              "      <td>10.1.1.249</td>\n",
              "    </tr>\n",
              "    <tr>\n",
              "      <th>721544</th>\n",
              "      <td>June 9th 2019, 00:00:15.000</td>\n",
              "      <td>vUWJOWsBoTGddM7vHkGD</td>\n",
              "      <td>10.1.1.200</td>\n",
              "    </tr>\n",
              "    <tr>\n",
              "      <th>721545</th>\n",
              "      <td>June 9th 2019, 00:00:09.000</td>\n",
              "      <td>aUWJOWsBoTGddM7vB0AR</td>\n",
              "      <td>10.1.2.432</td>\n",
              "    </tr>\n",
              "    <tr>\n",
              "      <th>721546</th>\n",
              "      <td>June 9th 2019, 00:00:05.000</td>\n",
              "      <td>AEWIOWsBoTGddM7v90Bw</td>\n",
              "      <td>10.1.2.156</td>\n",
              "    </tr>\n",
              "  </tbody>\n",
              "</table>\n",
              "<p>721547 rows × 3 columns</p>\n",
              "</div>"
            ],
            "text/plain": [
              "                         @timestamp                   _id  ip_address\n",
              "0       July 8th 2019, 14:43:03.000  XswJ0msBoTGddM7vxMDB  10.1.1.285\n",
              "1       July 8th 2019, 14:43:01.000  dKQJ0msB7mP0GwVzvJjz  10.1.2.389\n",
              "2       July 8th 2019, 14:42:59.000  CcwJ0msBoTGddM7vtb8y  10.1.1.415\n",
              "3       July 8th 2019, 14:42:57.000  bKQJ0msB7mP0GwVzrZdT   10.1.1.79\n",
              "4       July 8th 2019, 14:42:55.000  L6QJ0msB7mP0GwVzpZeI   10.1.1.60\n",
              "...                             ...                   ...         ...\n",
              "721542  June 9th 2019, 00:00:25.000  dkWJOWsBoTGddM7vRUOR   10.1.2.66\n",
              "721543  June 9th 2019, 00:00:19.000  TBuJOWsB7mP0GwVzLmol  10.1.1.249\n",
              "721544  June 9th 2019, 00:00:15.000  vUWJOWsBoTGddM7vHkGD  10.1.1.200\n",
              "721545  June 9th 2019, 00:00:09.000  aUWJOWsBoTGddM7vB0AR  10.1.2.432\n",
              "721546  June 9th 2019, 00:00:05.000  AEWIOWsBoTGddM7v90Bw  10.1.2.156\n",
              "\n",
              "[721547 rows x 3 columns]"
            ]
          },
          "execution_count": 3,
          "metadata": {},
          "output_type": "execute_result"
        }
      ]
    },
    {
      "cell_type": "markdown",
      "metadata": {
        "id": "ByYoDCvKlV1H"
      },
      "source": [
        "# Feature Extraction"
      ]
    },
    {
      "cell_type": "code",
      "metadata": {
        "id": "ZUSI7k6RlV1I"
      },
      "source": [
        "df['@timestamp'] = pd.to_datetime(df['@timestamp'])"
      ],
      "execution_count": null,
      "outputs": []
    },
    {
      "cell_type": "markdown",
      "metadata": {
        "id": "e_yel4MBlV1J"
      },
      "source": [
        "This changes the timestamp from original to modified form"
      ]
    },
    {
      "cell_type": "code",
      "metadata": {
        "id": "QwjkIjIPlV1K"
      },
      "source": [
        "df.sort_values(['ip_address', '@timestamp'], inplace=True)"
      ],
      "execution_count": null,
      "outputs": []
    },
    {
      "cell_type": "markdown",
      "metadata": {
        "id": "fCJcUi2AlV1L"
      },
      "source": [
        "This sorts the dataset wrt to ip address and timestamp"
      ]
    },
    {
      "cell_type": "code",
      "metadata": {
        "id": "CvLq-J4HlV1M"
      },
      "source": [
        "df['shift_time'] = df.groupby(['ip_address'])['@timestamp'].shift(1)"
      ],
      "execution_count": null,
      "outputs": []
    },
    {
      "cell_type": "markdown",
      "metadata": {
        "id": "9pGit_1alV1N"
      },
      "source": [
        "It creates shift_time column one shiftdown for timestamp coumn"
      ]
    },
    {
      "cell_type": "code",
      "metadata": {
        "id": "2U0PAdiylV1O"
      },
      "source": [
        "df['time_diff'] = (df['@timestamp'] -df['shift_time']).dt.seconds//60"
      ],
      "execution_count": null,
      "outputs": []
    },
    {
      "cell_type": "markdown",
      "metadata": {
        "id": "7-mXN82XlV1P"
      },
      "source": [
        "Finding the time differnce between timestamp and shift time"
      ]
    },
    {
      "cell_type": "code",
      "metadata": {
        "id": "R22hv3FtlV1Q"
      },
      "source": [
        "df['date'] = df['@timestamp'].dt.date"
      ],
      "execution_count": null,
      "outputs": []
    },
    {
      "cell_type": "markdown",
      "metadata": {
        "id": "nD6Yr8pWlV1R"
      },
      "source": [
        "Extracting the date from timestamp and creating seperate column"
      ]
    },
    {
      "cell_type": "code",
      "metadata": {
        "id": "nCR3ufMhlV1S"
      },
      "source": [
        "df['weekday'] = df['@timestamp'].dt.weekday"
      ],
      "execution_count": null,
      "outputs": []
    },
    {
      "cell_type": "markdown",
      "metadata": {
        "id": "74WAzxmUlV1T"
      },
      "source": [
        "Extracting the no of weekdays present in timestamp"
      ]
    },
    {
      "cell_type": "code",
      "metadata": {
        "id": "5KKM4OXUlV1U"
      },
      "source": [
        "df['hour'] = df['@timestamp'].dt.hour"
      ],
      "execution_count": null,
      "outputs": []
    },
    {
      "cell_type": "markdown",
      "metadata": {
        "id": "E0ahswj1lV1V"
      },
      "source": [
        "Finding the no.of hours present in timestamp column"
      ]
    },
    {
      "cell_type": "code",
      "metadata": {
        "id": "C3ry12bplV1W"
      },
      "source": [
        "df['is_weekend'] = ((df['weekday']==5 |(df['weekday']==6)).astype(int))"
      ],
      "execution_count": null,
      "outputs": []
    },
    {
      "cell_type": "markdown",
      "metadata": {
        "id": "TOXcgdYxlV1X"
      },
      "source": [
        "Finding how many weekend are present in timestamp"
      ]
    },
    {
      "cell_type": "code",
      "metadata": {
        "id": "UK5Yk5jLlV1Y"
      },
      "source": [
        "df['hour_bucket'] = df['hour']//4"
      ],
      "execution_count": null,
      "outputs": []
    },
    {
      "cell_type": "code",
      "metadata": {
        "id": "lZuJEBzTlV1Z",
        "outputId": "6767cdca-b034-46b0-e062-0ef51417cf3a"
      },
      "source": [
        "df"
      ],
      "execution_count": null,
      "outputs": [
        {
          "data": {
            "text/html": [
              "<div>\n",
              "<style scoped>\n",
              "    .dataframe tbody tr th:only-of-type {\n",
              "        vertical-align: middle;\n",
              "    }\n",
              "\n",
              "    .dataframe tbody tr th {\n",
              "        vertical-align: top;\n",
              "    }\n",
              "\n",
              "    .dataframe thead th {\n",
              "        text-align: right;\n",
              "    }\n",
              "</style>\n",
              "<table border=\"1\" class=\"dataframe\">\n",
              "  <thead>\n",
              "    <tr style=\"text-align: right;\">\n",
              "      <th></th>\n",
              "      <th>@timestamp</th>\n",
              "      <th>_id</th>\n",
              "      <th>ip_address</th>\n",
              "      <th>shift_time</th>\n",
              "      <th>time_diff</th>\n",
              "      <th>date</th>\n",
              "      <th>weekday</th>\n",
              "      <th>hour</th>\n",
              "      <th>is_weekend</th>\n",
              "      <th>hour_bucket</th>\n",
              "    </tr>\n",
              "  </thead>\n",
              "  <tbody>\n",
              "    <tr>\n",
              "      <th>721473</th>\n",
              "      <td>2019-06-09 00:06:09</td>\n",
              "      <td>DBuOOWsB7mP0GwVzhZ9U</td>\n",
              "      <td>10.1.1.1</td>\n",
              "      <td>NaT</td>\n",
              "      <td>NaN</td>\n",
              "      <td>2019-06-09</td>\n",
              "      <td>6</td>\n",
              "      <td>0</td>\n",
              "      <td>0</td>\n",
              "      <td>0</td>\n",
              "    </tr>\n",
              "    <tr>\n",
              "      <th>720483</th>\n",
              "      <td>2019-06-09 01:28:39</td>\n",
              "      <td>bB7aOWsB7mP0GwVzDY5G</td>\n",
              "      <td>10.1.1.1</td>\n",
              "      <td>2019-06-09 00:06:09</td>\n",
              "      <td>82.0</td>\n",
              "      <td>2019-06-09</td>\n",
              "      <td>6</td>\n",
              "      <td>1</td>\n",
              "      <td>0</td>\n",
              "      <td>0</td>\n",
              "    </tr>\n",
              "    <tr>\n",
              "      <th>719233</th>\n",
              "      <td>2019-06-09 03:12:49</td>\n",
              "      <td>R0w5OmsBoTGddM7vayZT</td>\n",
              "      <td>10.1.1.1</td>\n",
              "      <td>2019-06-09 01:28:39</td>\n",
              "      <td>104.0</td>\n",
              "      <td>2019-06-09</td>\n",
              "      <td>6</td>\n",
              "      <td>3</td>\n",
              "      <td>0</td>\n",
              "      <td>0</td>\n",
              "    </tr>\n",
              "    <tr>\n",
              "      <th>719222</th>\n",
              "      <td>2019-06-09 03:13:45</td>\n",
              "      <td>U0w6OmsBoTGddM7vRi8R</td>\n",
              "      <td>10.1.1.1</td>\n",
              "      <td>2019-06-09 03:12:49</td>\n",
              "      <td>0.0</td>\n",
              "      <td>2019-06-09</td>\n",
              "      <td>6</td>\n",
              "      <td>3</td>\n",
              "      <td>0</td>\n",
              "      <td>0</td>\n",
              "    </tr>\n",
              "    <tr>\n",
              "      <th>718875</th>\n",
              "      <td>2019-06-09 03:42:39</td>\n",
              "      <td>z01UOmsBoTGddM7vuzyC</td>\n",
              "      <td>10.1.1.1</td>\n",
              "      <td>2019-06-09 03:13:45</td>\n",
              "      <td>28.0</td>\n",
              "      <td>2019-06-09</td>\n",
              "      <td>6</td>\n",
              "      <td>3</td>\n",
              "      <td>0</td>\n",
              "      <td>0</td>\n",
              "    </tr>\n",
              "    <tr>\n",
              "      <th>...</th>\n",
              "      <td>...</td>\n",
              "      <td>...</td>\n",
              "      <td>...</td>\n",
              "      <td>...</td>\n",
              "      <td>...</td>\n",
              "      <td>...</td>\n",
              "      <td>...</td>\n",
              "      <td>...</td>\n",
              "      <td>...</td>\n",
              "      <td>...</td>\n",
              "    </tr>\n",
              "    <tr>\n",
              "      <th>3225</th>\n",
              "      <td>2019-07-08 11:49:00</td>\n",
              "      <td>3cBq0WsBoTGddM7va5TJ</td>\n",
              "      <td>10.1.2.99</td>\n",
              "      <td>2019-07-08 11:47:15</td>\n",
              "      <td>1.0</td>\n",
              "      <td>2019-07-08</td>\n",
              "      <td>0</td>\n",
              "      <td>11</td>\n",
              "      <td>0</td>\n",
              "      <td>2</td>\n",
              "    </tr>\n",
              "    <tr>\n",
              "      <th>2422</th>\n",
              "      <td>2019-07-08 12:22:29</td>\n",
              "      <td>QMKJ0WsBoTGddM7vE9N1</td>\n",
              "      <td>10.1.2.99</td>\n",
              "      <td>2019-07-08 11:49:00</td>\n",
              "      <td>33.0</td>\n",
              "      <td>2019-07-08</td>\n",
              "      <td>0</td>\n",
              "      <td>12</td>\n",
              "      <td>0</td>\n",
              "      <td>3</td>\n",
              "    </tr>\n",
              "    <tr>\n",
              "      <th>1704</th>\n",
              "      <td>2019-07-08 12:52:25</td>\n",
              "      <td>9pyk0WsB7mP0GwVze7sV</td>\n",
              "      <td>10.1.2.99</td>\n",
              "      <td>2019-07-08 12:22:29</td>\n",
              "      <td>29.0</td>\n",
              "      <td>2019-07-08</td>\n",
              "      <td>0</td>\n",
              "      <td>12</td>\n",
              "      <td>0</td>\n",
              "      <td>3</td>\n",
              "    </tr>\n",
              "    <tr>\n",
              "      <th>1138</th>\n",
              "      <td>2019-07-08 13:15:59</td>\n",
              "      <td>B8a60WsBoTGddM7vDnqQ</td>\n",
              "      <td>10.1.2.99</td>\n",
              "      <td>2019-07-08 12:52:25</td>\n",
              "      <td>23.0</td>\n",
              "      <td>2019-07-08</td>\n",
              "      <td>0</td>\n",
              "      <td>13</td>\n",
              "      <td>0</td>\n",
              "      <td>3</td>\n",
              "    </tr>\n",
              "    <tr>\n",
              "      <th>368</th>\n",
              "      <td>2019-07-08 13:47:19</td>\n",
              "      <td>M8jW0WsBoTGddM7vvplE</td>\n",
              "      <td>10.1.2.99</td>\n",
              "      <td>2019-07-08 13:15:59</td>\n",
              "      <td>31.0</td>\n",
              "      <td>2019-07-08</td>\n",
              "      <td>0</td>\n",
              "      <td>13</td>\n",
              "      <td>0</td>\n",
              "      <td>3</td>\n",
              "    </tr>\n",
              "  </tbody>\n",
              "</table>\n",
              "<p>721547 rows × 10 columns</p>\n",
              "</div>"
            ],
            "text/plain": [
              "                @timestamp                   _id ip_address  \\\n",
              "721473 2019-06-09 00:06:09  DBuOOWsB7mP0GwVzhZ9U   10.1.1.1   \n",
              "720483 2019-06-09 01:28:39  bB7aOWsB7mP0GwVzDY5G   10.1.1.1   \n",
              "719233 2019-06-09 03:12:49  R0w5OmsBoTGddM7vayZT   10.1.1.1   \n",
              "719222 2019-06-09 03:13:45  U0w6OmsBoTGddM7vRi8R   10.1.1.1   \n",
              "718875 2019-06-09 03:42:39  z01UOmsBoTGddM7vuzyC   10.1.1.1   \n",
              "...                    ...                   ...        ...   \n",
              "3225   2019-07-08 11:49:00  3cBq0WsBoTGddM7va5TJ  10.1.2.99   \n",
              "2422   2019-07-08 12:22:29  QMKJ0WsBoTGddM7vE9N1  10.1.2.99   \n",
              "1704   2019-07-08 12:52:25  9pyk0WsB7mP0GwVze7sV  10.1.2.99   \n",
              "1138   2019-07-08 13:15:59  B8a60WsBoTGddM7vDnqQ  10.1.2.99   \n",
              "368    2019-07-08 13:47:19  M8jW0WsBoTGddM7vvplE  10.1.2.99   \n",
              "\n",
              "                shift_time  time_diff        date  weekday  hour  is_weekend  \\\n",
              "721473                 NaT        NaN  2019-06-09        6     0           0   \n",
              "720483 2019-06-09 00:06:09       82.0  2019-06-09        6     1           0   \n",
              "719233 2019-06-09 01:28:39      104.0  2019-06-09        6     3           0   \n",
              "719222 2019-06-09 03:12:49        0.0  2019-06-09        6     3           0   \n",
              "718875 2019-06-09 03:13:45       28.0  2019-06-09        6     3           0   \n",
              "...                    ...        ...         ...      ...   ...         ...   \n",
              "3225   2019-07-08 11:47:15        1.0  2019-07-08        0    11           0   \n",
              "2422   2019-07-08 11:49:00       33.0  2019-07-08        0    12           0   \n",
              "1704   2019-07-08 12:22:29       29.0  2019-07-08        0    12           0   \n",
              "1138   2019-07-08 12:52:25       23.0  2019-07-08        0    13           0   \n",
              "368    2019-07-08 13:15:59       31.0  2019-07-08        0    13           0   \n",
              "\n",
              "        hour_bucket  \n",
              "721473            0  \n",
              "720483            0  \n",
              "719233            0  \n",
              "719222            0  \n",
              "718875            0  \n",
              "...             ...  \n",
              "3225              2  \n",
              "2422              3  \n",
              "1704              3  \n",
              "1138              3  \n",
              "368               3  \n",
              "\n",
              "[721547 rows x 10 columns]"
            ]
          },
          "execution_count": 13,
          "metadata": {},
          "output_type": "execute_result"
        }
      ]
    },
    {
      "cell_type": "code",
      "metadata": {
        "id": "swVEhb35lV1a"
      },
      "source": [
        "ip_addr ='ip_address'"
      ],
      "execution_count": null,
      "outputs": []
    },
    {
      "cell_type": "code",
      "metadata": {
        "id": "jqLdX-QLlV1b"
      },
      "source": [
        "ip_counts = df.groupby(ip_addr)['@timestamp'].count().reset_index()"
      ],
      "execution_count": null,
      "outputs": []
    },
    {
      "cell_type": "markdown",
      "metadata": {
        "id": "s3tbXtHelV1b"
      },
      "source": [
        "Counting how many times the user in logging into the computer wrt to ip address"
      ]
    },
    {
      "cell_type": "code",
      "metadata": {
        "id": "fyQvQ6h1lV1c",
        "outputId": "39c41bde-7c25-4e29-b346-cdce4313b4b2"
      },
      "source": [
        "ip_counts"
      ],
      "execution_count": null,
      "outputs": [
        {
          "data": {
            "text/html": [
              "<div>\n",
              "<style scoped>\n",
              "    .dataframe tbody tr th:only-of-type {\n",
              "        vertical-align: middle;\n",
              "    }\n",
              "\n",
              "    .dataframe tbody tr th {\n",
              "        vertical-align: top;\n",
              "    }\n",
              "\n",
              "    .dataframe thead th {\n",
              "        text-align: right;\n",
              "    }\n",
              "</style>\n",
              "<table border=\"1\" class=\"dataframe\">\n",
              "  <thead>\n",
              "    <tr style=\"text-align: right;\">\n",
              "      <th></th>\n",
              "      <th>ip_address</th>\n",
              "      <th>@timestamp</th>\n",
              "    </tr>\n",
              "  </thead>\n",
              "  <tbody>\n",
              "    <tr>\n",
              "      <th>0</th>\n",
              "      <td>10.1.1.1</td>\n",
              "      <td>1446</td>\n",
              "    </tr>\n",
              "    <tr>\n",
              "      <th>1</th>\n",
              "      <td>10.1.1.100</td>\n",
              "      <td>2860</td>\n",
              "    </tr>\n",
              "    <tr>\n",
              "      <th>2</th>\n",
              "      <td>10.1.1.101</td>\n",
              "      <td>1465</td>\n",
              "    </tr>\n",
              "    <tr>\n",
              "      <th>3</th>\n",
              "      <td>10.1.1.106</td>\n",
              "      <td>1408</td>\n",
              "    </tr>\n",
              "    <tr>\n",
              "      <th>4</th>\n",
              "      <td>10.1.1.109</td>\n",
              "      <td>1459</td>\n",
              "    </tr>\n",
              "    <tr>\n",
              "      <th>...</th>\n",
              "      <td>...</td>\n",
              "      <td>...</td>\n",
              "    </tr>\n",
              "    <tr>\n",
              "      <th>381</th>\n",
              "      <td>10.1.2.86</td>\n",
              "      <td>4307</td>\n",
              "    </tr>\n",
              "    <tr>\n",
              "      <th>382</th>\n",
              "      <td>10.1.2.89</td>\n",
              "      <td>2826</td>\n",
              "    </tr>\n",
              "    <tr>\n",
              "      <th>383</th>\n",
              "      <td>10.1.2.90</td>\n",
              "      <td>2904</td>\n",
              "    </tr>\n",
              "    <tr>\n",
              "      <th>384</th>\n",
              "      <td>10.1.2.95</td>\n",
              "      <td>2868</td>\n",
              "    </tr>\n",
              "    <tr>\n",
              "      <th>385</th>\n",
              "      <td>10.1.2.99</td>\n",
              "      <td>1423</td>\n",
              "    </tr>\n",
              "  </tbody>\n",
              "</table>\n",
              "<p>386 rows × 2 columns</p>\n",
              "</div>"
            ],
            "text/plain": [
              "     ip_address  @timestamp\n",
              "0      10.1.1.1        1446\n",
              "1    10.1.1.100        2860\n",
              "2    10.1.1.101        1465\n",
              "3    10.1.1.106        1408\n",
              "4    10.1.1.109        1459\n",
              "..          ...         ...\n",
              "381   10.1.2.86        4307\n",
              "382   10.1.2.89        2826\n",
              "383   10.1.2.90        2904\n",
              "384   10.1.2.95        2868\n",
              "385   10.1.2.99        1423\n",
              "\n",
              "[386 rows x 2 columns]"
            ]
          },
          "execution_count": 16,
          "metadata": {},
          "output_type": "execute_result"
        }
      ]
    },
    {
      "cell_type": "code",
      "metadata": {
        "id": "PdCpBiDtlV1d"
      },
      "source": [
        "ip_counts = ip_counts.rename(columns={'@timestamp':'total_count'})"
      ],
      "execution_count": null,
      "outputs": []
    },
    {
      "cell_type": "code",
      "metadata": {
        "id": "7BWAZSSIlV1e"
      },
      "source": [
        "daily_counts = df.groupby([ip_addr,'date'])['@timestamp'].count().reset_index()"
      ],
      "execution_count": null,
      "outputs": []
    },
    {
      "cell_type": "code",
      "metadata": {
        "id": "P6H7i3RVlV1e",
        "outputId": "5f2cd6dd-1660-439e-9e43-cf7ab9411bca"
      },
      "source": [
        "daily_counts"
      ],
      "execution_count": null,
      "outputs": [
        {
          "data": {
            "text/html": [
              "<div>\n",
              "<style scoped>\n",
              "    .dataframe tbody tr th:only-of-type {\n",
              "        vertical-align: middle;\n",
              "    }\n",
              "\n",
              "    .dataframe tbody tr th {\n",
              "        vertical-align: top;\n",
              "    }\n",
              "\n",
              "    .dataframe thead th {\n",
              "        text-align: right;\n",
              "    }\n",
              "</style>\n",
              "<table border=\"1\" class=\"dataframe\">\n",
              "  <thead>\n",
              "    <tr style=\"text-align: right;\">\n",
              "      <th></th>\n",
              "      <th>ip_address</th>\n",
              "      <th>date</th>\n",
              "      <th>@timestamp</th>\n",
              "    </tr>\n",
              "  </thead>\n",
              "  <tbody>\n",
              "    <tr>\n",
              "      <th>0</th>\n",
              "      <td>10.1.1.1</td>\n",
              "      <td>2019-06-09</td>\n",
              "      <td>36</td>\n",
              "    </tr>\n",
              "    <tr>\n",
              "      <th>1</th>\n",
              "      <td>10.1.1.1</td>\n",
              "      <td>2019-06-10</td>\n",
              "      <td>37</td>\n",
              "    </tr>\n",
              "    <tr>\n",
              "      <th>2</th>\n",
              "      <td>10.1.1.1</td>\n",
              "      <td>2019-06-11</td>\n",
              "      <td>70</td>\n",
              "    </tr>\n",
              "    <tr>\n",
              "      <th>3</th>\n",
              "      <td>10.1.1.1</td>\n",
              "      <td>2019-06-12</td>\n",
              "      <td>38</td>\n",
              "    </tr>\n",
              "    <tr>\n",
              "      <th>4</th>\n",
              "      <td>10.1.1.1</td>\n",
              "      <td>2019-06-13</td>\n",
              "      <td>32</td>\n",
              "    </tr>\n",
              "    <tr>\n",
              "      <th>...</th>\n",
              "      <td>...</td>\n",
              "      <td>...</td>\n",
              "      <td>...</td>\n",
              "    </tr>\n",
              "    <tr>\n",
              "      <th>11575</th>\n",
              "      <td>10.1.2.99</td>\n",
              "      <td>2019-07-04</td>\n",
              "      <td>79</td>\n",
              "    </tr>\n",
              "    <tr>\n",
              "      <th>11576</th>\n",
              "      <td>10.1.2.99</td>\n",
              "      <td>2019-07-05</td>\n",
              "      <td>61</td>\n",
              "    </tr>\n",
              "    <tr>\n",
              "      <th>11577</th>\n",
              "      <td>10.1.2.99</td>\n",
              "      <td>2019-07-06</td>\n",
              "      <td>89</td>\n",
              "    </tr>\n",
              "    <tr>\n",
              "      <th>11578</th>\n",
              "      <td>10.1.2.99</td>\n",
              "      <td>2019-07-07</td>\n",
              "      <td>47</td>\n",
              "    </tr>\n",
              "    <tr>\n",
              "      <th>11579</th>\n",
              "      <td>10.1.2.99</td>\n",
              "      <td>2019-07-08</td>\n",
              "      <td>41</td>\n",
              "    </tr>\n",
              "  </tbody>\n",
              "</table>\n",
              "<p>11580 rows × 3 columns</p>\n",
              "</div>"
            ],
            "text/plain": [
              "      ip_address        date  @timestamp\n",
              "0       10.1.1.1  2019-06-09          36\n",
              "1       10.1.1.1  2019-06-10          37\n",
              "2       10.1.1.1  2019-06-11          70\n",
              "3       10.1.1.1  2019-06-12          38\n",
              "4       10.1.1.1  2019-06-13          32\n",
              "...          ...         ...         ...\n",
              "11575  10.1.2.99  2019-07-04          79\n",
              "11576  10.1.2.99  2019-07-05          61\n",
              "11577  10.1.2.99  2019-07-06          89\n",
              "11578  10.1.2.99  2019-07-07          47\n",
              "11579  10.1.2.99  2019-07-08          41\n",
              "\n",
              "[11580 rows x 3 columns]"
            ]
          },
          "execution_count": 19,
          "metadata": {},
          "output_type": "execute_result"
        }
      ]
    },
    {
      "cell_type": "code",
      "metadata": {
        "id": "be07jMyolV1f"
      },
      "source": [
        "daily_counts = daily_counts.rename(columns={'@timestamp':'daily_counts'})"
      ],
      "execution_count": null,
      "outputs": []
    },
    {
      "cell_type": "code",
      "metadata": {
        "id": "Y2we2ftflV1g"
      },
      "source": [
        "daily_counts_avg = daily_counts.groupby(ip_addr).daily_counts.median().reset_index()"
      ],
      "execution_count": null,
      "outputs": []
    },
    {
      "cell_type": "markdown",
      "metadata": {
        "id": "qll2Zzm5lV1g"
      },
      "source": [
        "Calculating the median of the counts for all the date having the same ip address"
      ]
    },
    {
      "cell_type": "code",
      "metadata": {
        "id": "4Rjq_thtlV1h",
        "outputId": "1dc014b1-8c99-4ff4-a8db-e1c934d05af5"
      },
      "source": [
        "daily_counts_avg.head(5)"
      ],
      "execution_count": null,
      "outputs": [
        {
          "data": {
            "text/html": [
              "<div>\n",
              "<style scoped>\n",
              "    .dataframe tbody tr th:only-of-type {\n",
              "        vertical-align: middle;\n",
              "    }\n",
              "\n",
              "    .dataframe tbody tr th {\n",
              "        vertical-align: top;\n",
              "    }\n",
              "\n",
              "    .dataframe thead th {\n",
              "        text-align: right;\n",
              "    }\n",
              "</style>\n",
              "<table border=\"1\" class=\"dataframe\">\n",
              "  <thead>\n",
              "    <tr style=\"text-align: right;\">\n",
              "      <th></th>\n",
              "      <th>ip_address</th>\n",
              "      <th>daily_counts</th>\n",
              "    </tr>\n",
              "  </thead>\n",
              "  <tbody>\n",
              "    <tr>\n",
              "      <th>0</th>\n",
              "      <td>10.1.1.1</td>\n",
              "      <td>40.0</td>\n",
              "    </tr>\n",
              "    <tr>\n",
              "      <th>1</th>\n",
              "      <td>10.1.1.100</td>\n",
              "      <td>78.0</td>\n",
              "    </tr>\n",
              "    <tr>\n",
              "      <th>2</th>\n",
              "      <td>10.1.1.101</td>\n",
              "      <td>40.0</td>\n",
              "    </tr>\n",
              "    <tr>\n",
              "      <th>3</th>\n",
              "      <td>10.1.1.106</td>\n",
              "      <td>35.5</td>\n",
              "    </tr>\n",
              "    <tr>\n",
              "      <th>4</th>\n",
              "      <td>10.1.1.109</td>\n",
              "      <td>42.5</td>\n",
              "    </tr>\n",
              "  </tbody>\n",
              "</table>\n",
              "</div>"
            ],
            "text/plain": [
              "   ip_address  daily_counts\n",
              "0    10.1.1.1          40.0\n",
              "1  10.1.1.100          78.0\n",
              "2  10.1.1.101          40.0\n",
              "3  10.1.1.106          35.5\n",
              "4  10.1.1.109          42.5"
            ]
          },
          "execution_count": 22,
          "metadata": {},
          "output_type": "execute_result"
        }
      ]
    },
    {
      "cell_type": "code",
      "metadata": {
        "id": "kKqTKQB8lV1i"
      },
      "source": [
        "weekend_counts = df.groupby([ip_addr, 'is_weekend'])['@timestamp'].count().reset_index()"
      ],
      "execution_count": null,
      "outputs": []
    },
    {
      "cell_type": "code",
      "metadata": {
        "id": "cH-hVpVZlV1i",
        "outputId": "d48cbb59-e1fc-4908-9c66-602a83ac9b38"
      },
      "source": [
        "weekend_counts"
      ],
      "execution_count": null,
      "outputs": [
        {
          "data": {
            "text/html": [
              "<div>\n",
              "<style scoped>\n",
              "    .dataframe tbody tr th:only-of-type {\n",
              "        vertical-align: middle;\n",
              "    }\n",
              "\n",
              "    .dataframe tbody tr th {\n",
              "        vertical-align: top;\n",
              "    }\n",
              "\n",
              "    .dataframe thead th {\n",
              "        text-align: right;\n",
              "    }\n",
              "</style>\n",
              "<table border=\"1\" class=\"dataframe\">\n",
              "  <thead>\n",
              "    <tr style=\"text-align: right;\">\n",
              "      <th></th>\n",
              "      <th>ip_address</th>\n",
              "      <th>is_weekend</th>\n",
              "      <th>@timestamp</th>\n",
              "    </tr>\n",
              "  </thead>\n",
              "  <tbody>\n",
              "    <tr>\n",
              "      <th>0</th>\n",
              "      <td>10.1.1.1</td>\n",
              "      <td>0</td>\n",
              "      <td>1245</td>\n",
              "    </tr>\n",
              "    <tr>\n",
              "      <th>1</th>\n",
              "      <td>10.1.1.1</td>\n",
              "      <td>1</td>\n",
              "      <td>201</td>\n",
              "    </tr>\n",
              "    <tr>\n",
              "      <th>2</th>\n",
              "      <td>10.1.1.100</td>\n",
              "      <td>0</td>\n",
              "      <td>2463</td>\n",
              "    </tr>\n",
              "    <tr>\n",
              "      <th>3</th>\n",
              "      <td>10.1.1.100</td>\n",
              "      <td>1</td>\n",
              "      <td>397</td>\n",
              "    </tr>\n",
              "    <tr>\n",
              "      <th>4</th>\n",
              "      <td>10.1.1.101</td>\n",
              "      <td>0</td>\n",
              "      <td>1260</td>\n",
              "    </tr>\n",
              "    <tr>\n",
              "      <th>...</th>\n",
              "      <td>...</td>\n",
              "      <td>...</td>\n",
              "      <td>...</td>\n",
              "    </tr>\n",
              "    <tr>\n",
              "      <th>767</th>\n",
              "      <td>10.1.2.90</td>\n",
              "      <td>1</td>\n",
              "      <td>395</td>\n",
              "    </tr>\n",
              "    <tr>\n",
              "      <th>768</th>\n",
              "      <td>10.1.2.95</td>\n",
              "      <td>0</td>\n",
              "      <td>2478</td>\n",
              "    </tr>\n",
              "    <tr>\n",
              "      <th>769</th>\n",
              "      <td>10.1.2.95</td>\n",
              "      <td>1</td>\n",
              "      <td>390</td>\n",
              "    </tr>\n",
              "    <tr>\n",
              "      <th>770</th>\n",
              "      <td>10.1.2.99</td>\n",
              "      <td>0</td>\n",
              "      <td>1198</td>\n",
              "    </tr>\n",
              "    <tr>\n",
              "      <th>771</th>\n",
              "      <td>10.1.2.99</td>\n",
              "      <td>1</td>\n",
              "      <td>225</td>\n",
              "    </tr>\n",
              "  </tbody>\n",
              "</table>\n",
              "<p>772 rows × 3 columns</p>\n",
              "</div>"
            ],
            "text/plain": [
              "     ip_address  is_weekend  @timestamp\n",
              "0      10.1.1.1           0        1245\n",
              "1      10.1.1.1           1         201\n",
              "2    10.1.1.100           0        2463\n",
              "3    10.1.1.100           1         397\n",
              "4    10.1.1.101           0        1260\n",
              "..          ...         ...         ...\n",
              "767   10.1.2.90           1         395\n",
              "768   10.1.2.95           0        2478\n",
              "769   10.1.2.95           1         390\n",
              "770   10.1.2.99           0        1198\n",
              "771   10.1.2.99           1         225\n",
              "\n",
              "[772 rows x 3 columns]"
            ]
          },
          "execution_count": 24,
          "metadata": {},
          "output_type": "execute_result"
        }
      ]
    },
    {
      "cell_type": "code",
      "metadata": {
        "id": "5jRi0PmulV1k"
      },
      "source": [
        "weekend_counts = weekend_counts.rename(columns={'@timestamp':'weekend_counts'})"
      ],
      "execution_count": null,
      "outputs": []
    },
    {
      "cell_type": "code",
      "metadata": {
        "id": "9d4pddaRlV1k",
        "outputId": "37dcf8b9-2dfc-4344-eff9-414fa1b9bca9"
      },
      "source": [
        "weekend_counts.head()"
      ],
      "execution_count": null,
      "outputs": [
        {
          "data": {
            "text/html": [
              "<div>\n",
              "<style scoped>\n",
              "    .dataframe tbody tr th:only-of-type {\n",
              "        vertical-align: middle;\n",
              "    }\n",
              "\n",
              "    .dataframe tbody tr th {\n",
              "        vertical-align: top;\n",
              "    }\n",
              "\n",
              "    .dataframe thead th {\n",
              "        text-align: right;\n",
              "    }\n",
              "</style>\n",
              "<table border=\"1\" class=\"dataframe\">\n",
              "  <thead>\n",
              "    <tr style=\"text-align: right;\">\n",
              "      <th></th>\n",
              "      <th>ip_address</th>\n",
              "      <th>is_weekend</th>\n",
              "      <th>weekend_counts</th>\n",
              "    </tr>\n",
              "  </thead>\n",
              "  <tbody>\n",
              "    <tr>\n",
              "      <th>0</th>\n",
              "      <td>10.1.1.1</td>\n",
              "      <td>0</td>\n",
              "      <td>1245</td>\n",
              "    </tr>\n",
              "    <tr>\n",
              "      <th>1</th>\n",
              "      <td>10.1.1.1</td>\n",
              "      <td>1</td>\n",
              "      <td>201</td>\n",
              "    </tr>\n",
              "    <tr>\n",
              "      <th>2</th>\n",
              "      <td>10.1.1.100</td>\n",
              "      <td>0</td>\n",
              "      <td>2463</td>\n",
              "    </tr>\n",
              "    <tr>\n",
              "      <th>3</th>\n",
              "      <td>10.1.1.100</td>\n",
              "      <td>1</td>\n",
              "      <td>397</td>\n",
              "    </tr>\n",
              "    <tr>\n",
              "      <th>4</th>\n",
              "      <td>10.1.1.101</td>\n",
              "      <td>0</td>\n",
              "      <td>1260</td>\n",
              "    </tr>\n",
              "  </tbody>\n",
              "</table>\n",
              "</div>"
            ],
            "text/plain": [
              "   ip_address  is_weekend  weekend_counts\n",
              "0    10.1.1.1           0            1245\n",
              "1    10.1.1.1           1             201\n",
              "2  10.1.1.100           0            2463\n",
              "3  10.1.1.100           1             397\n",
              "4  10.1.1.101           0            1260"
            ]
          },
          "execution_count": 26,
          "metadata": {},
          "output_type": "execute_result"
        }
      ]
    },
    {
      "cell_type": "markdown",
      "metadata": {
        "id": "IFojUshflV1l"
      },
      "source": [
        "calucating no.of logins occured in the weekends and weekdays"
      ]
    },
    {
      "cell_type": "code",
      "metadata": {
        "id": "ExCyeELDlV1m"
      },
      "source": [
        "weekend_counts_avg = weekend_counts.pivot_table(index=ip_addr, columns='is_weekend').reset_index([0])"
      ],
      "execution_count": null,
      "outputs": []
    },
    {
      "cell_type": "code",
      "metadata": {
        "id": "-JMjAHUflV1m",
        "outputId": "3acad855-b14e-45e0-eab6-22fed8772f0d"
      },
      "source": [
        "weekend_counts_avg.head()"
      ],
      "execution_count": null,
      "outputs": [
        {
          "data": {
            "text/html": [
              "<div>\n",
              "<style scoped>\n",
              "    .dataframe tbody tr th:only-of-type {\n",
              "        vertical-align: middle;\n",
              "    }\n",
              "\n",
              "    .dataframe tbody tr th {\n",
              "        vertical-align: top;\n",
              "    }\n",
              "\n",
              "    .dataframe thead tr th {\n",
              "        text-align: left;\n",
              "    }\n",
              "</style>\n",
              "<table border=\"1\" class=\"dataframe\">\n",
              "  <thead>\n",
              "    <tr>\n",
              "      <th></th>\n",
              "      <th>ip_address</th>\n",
              "      <th colspan=\"2\" halign=\"left\">weekend_counts</th>\n",
              "    </tr>\n",
              "    <tr>\n",
              "      <th>is_weekend</th>\n",
              "      <th></th>\n",
              "      <th>0</th>\n",
              "      <th>1</th>\n",
              "    </tr>\n",
              "  </thead>\n",
              "  <tbody>\n",
              "    <tr>\n",
              "      <th>0</th>\n",
              "      <td>10.1.1.1</td>\n",
              "      <td>1245</td>\n",
              "      <td>201</td>\n",
              "    </tr>\n",
              "    <tr>\n",
              "      <th>1</th>\n",
              "      <td>10.1.1.100</td>\n",
              "      <td>2463</td>\n",
              "      <td>397</td>\n",
              "    </tr>\n",
              "    <tr>\n",
              "      <th>2</th>\n",
              "      <td>10.1.1.101</td>\n",
              "      <td>1260</td>\n",
              "      <td>205</td>\n",
              "    </tr>\n",
              "    <tr>\n",
              "      <th>3</th>\n",
              "      <td>10.1.1.106</td>\n",
              "      <td>1190</td>\n",
              "      <td>218</td>\n",
              "    </tr>\n",
              "    <tr>\n",
              "      <th>4</th>\n",
              "      <td>10.1.1.109</td>\n",
              "      <td>1244</td>\n",
              "      <td>215</td>\n",
              "    </tr>\n",
              "  </tbody>\n",
              "</table>\n",
              "</div>"
            ],
            "text/plain": [
              "            ip_address weekend_counts     \n",
              "is_weekend                          0    1\n",
              "0             10.1.1.1           1245  201\n",
              "1           10.1.1.100           2463  397\n",
              "2           10.1.1.101           1260  205\n",
              "3           10.1.1.106           1190  218\n",
              "4           10.1.1.109           1244  215"
            ]
          },
          "execution_count": 28,
          "metadata": {},
          "output_type": "execute_result"
        }
      ]
    },
    {
      "cell_type": "code",
      "metadata": {
        "id": "bNVnAoPqlV1n"
      },
      "source": [
        "weekend_counts_avg.columns = weekend_counts_avg.columns.droplevel()"
      ],
      "execution_count": null,
      "outputs": []
    },
    {
      "cell_type": "code",
      "metadata": {
        "id": "-qhbs2xAlV1o",
        "outputId": "b1940298-faa5-4bef-ab3b-4daeee14cae8"
      },
      "source": [
        "weekend_counts_avg"
      ],
      "execution_count": null,
      "outputs": [
        {
          "data": {
            "text/html": [
              "<div>\n",
              "<style scoped>\n",
              "    .dataframe tbody tr th:only-of-type {\n",
              "        vertical-align: middle;\n",
              "    }\n",
              "\n",
              "    .dataframe tbody tr th {\n",
              "        vertical-align: top;\n",
              "    }\n",
              "\n",
              "    .dataframe thead th {\n",
              "        text-align: right;\n",
              "    }\n",
              "</style>\n",
              "<table border=\"1\" class=\"dataframe\">\n",
              "  <thead>\n",
              "    <tr style=\"text-align: right;\">\n",
              "      <th>is_weekend</th>\n",
              "      <th></th>\n",
              "      <th>0</th>\n",
              "      <th>1</th>\n",
              "    </tr>\n",
              "  </thead>\n",
              "  <tbody>\n",
              "    <tr>\n",
              "      <th>0</th>\n",
              "      <td>10.1.1.1</td>\n",
              "      <td>1245</td>\n",
              "      <td>201</td>\n",
              "    </tr>\n",
              "    <tr>\n",
              "      <th>1</th>\n",
              "      <td>10.1.1.100</td>\n",
              "      <td>2463</td>\n",
              "      <td>397</td>\n",
              "    </tr>\n",
              "    <tr>\n",
              "      <th>2</th>\n",
              "      <td>10.1.1.101</td>\n",
              "      <td>1260</td>\n",
              "      <td>205</td>\n",
              "    </tr>\n",
              "    <tr>\n",
              "      <th>3</th>\n",
              "      <td>10.1.1.106</td>\n",
              "      <td>1190</td>\n",
              "      <td>218</td>\n",
              "    </tr>\n",
              "    <tr>\n",
              "      <th>4</th>\n",
              "      <td>10.1.1.109</td>\n",
              "      <td>1244</td>\n",
              "      <td>215</td>\n",
              "    </tr>\n",
              "    <tr>\n",
              "      <th>...</th>\n",
              "      <td>...</td>\n",
              "      <td>...</td>\n",
              "      <td>...</td>\n",
              "    </tr>\n",
              "    <tr>\n",
              "      <th>381</th>\n",
              "      <td>10.1.2.86</td>\n",
              "      <td>3699</td>\n",
              "      <td>608</td>\n",
              "    </tr>\n",
              "    <tr>\n",
              "      <th>382</th>\n",
              "      <td>10.1.2.89</td>\n",
              "      <td>2435</td>\n",
              "      <td>391</td>\n",
              "    </tr>\n",
              "    <tr>\n",
              "      <th>383</th>\n",
              "      <td>10.1.2.90</td>\n",
              "      <td>2509</td>\n",
              "      <td>395</td>\n",
              "    </tr>\n",
              "    <tr>\n",
              "      <th>384</th>\n",
              "      <td>10.1.2.95</td>\n",
              "      <td>2478</td>\n",
              "      <td>390</td>\n",
              "    </tr>\n",
              "    <tr>\n",
              "      <th>385</th>\n",
              "      <td>10.1.2.99</td>\n",
              "      <td>1198</td>\n",
              "      <td>225</td>\n",
              "    </tr>\n",
              "  </tbody>\n",
              "</table>\n",
              "<p>386 rows × 3 columns</p>\n",
              "</div>"
            ],
            "text/plain": [
              "is_weekend                 0    1\n",
              "0             10.1.1.1  1245  201\n",
              "1           10.1.1.100  2463  397\n",
              "2           10.1.1.101  1260  205\n",
              "3           10.1.1.106  1190  218\n",
              "4           10.1.1.109  1244  215\n",
              "..                 ...   ...  ...\n",
              "381          10.1.2.86  3699  608\n",
              "382          10.1.2.89  2435  391\n",
              "383          10.1.2.90  2509  395\n",
              "384          10.1.2.95  2478  390\n",
              "385          10.1.2.99  1198  225\n",
              "\n",
              "[386 rows x 3 columns]"
            ]
          },
          "execution_count": 30,
          "metadata": {},
          "output_type": "execute_result"
        }
      ]
    },
    {
      "cell_type": "code",
      "metadata": {
        "id": "0D_lS_v9lV1p"
      },
      "source": [
        "weekend_counts_avg.columns = [ip_addr, 'week_day', 'weekend']"
      ],
      "execution_count": null,
      "outputs": []
    },
    {
      "cell_type": "code",
      "metadata": {
        "id": "U2NcBbWXlV1q"
      },
      "source": [
        "weekend_counts_avg['is_weekend_ratio'] = weekend_counts_avg['week_day']/ weekend_counts_avg['weekend']"
      ],
      "execution_count": null,
      "outputs": []
    },
    {
      "cell_type": "markdown",
      "metadata": {
        "id": "K31SAVAylV1q"
      },
      "source": [
        "finding the ratio between weekday and weekend"
      ]
    },
    {
      "cell_type": "code",
      "metadata": {
        "id": "KXiLDvmXlV1r",
        "outputId": "01067e55-1b0e-4ddf-bc1d-9b80e171b5ea"
      },
      "source": [
        "weekend_counts_avg.head()"
      ],
      "execution_count": null,
      "outputs": [
        {
          "data": {
            "text/html": [
              "<div>\n",
              "<style scoped>\n",
              "    .dataframe tbody tr th:only-of-type {\n",
              "        vertical-align: middle;\n",
              "    }\n",
              "\n",
              "    .dataframe tbody tr th {\n",
              "        vertical-align: top;\n",
              "    }\n",
              "\n",
              "    .dataframe thead th {\n",
              "        text-align: right;\n",
              "    }\n",
              "</style>\n",
              "<table border=\"1\" class=\"dataframe\">\n",
              "  <thead>\n",
              "    <tr style=\"text-align: right;\">\n",
              "      <th></th>\n",
              "      <th>ip_address</th>\n",
              "      <th>week_day</th>\n",
              "      <th>weekend</th>\n",
              "      <th>is_weekend_ratio</th>\n",
              "    </tr>\n",
              "  </thead>\n",
              "  <tbody>\n",
              "    <tr>\n",
              "      <th>0</th>\n",
              "      <td>10.1.1.1</td>\n",
              "      <td>1245</td>\n",
              "      <td>201</td>\n",
              "      <td>6.194030</td>\n",
              "    </tr>\n",
              "    <tr>\n",
              "      <th>1</th>\n",
              "      <td>10.1.1.100</td>\n",
              "      <td>2463</td>\n",
              "      <td>397</td>\n",
              "      <td>6.204030</td>\n",
              "    </tr>\n",
              "    <tr>\n",
              "      <th>2</th>\n",
              "      <td>10.1.1.101</td>\n",
              "      <td>1260</td>\n",
              "      <td>205</td>\n",
              "      <td>6.146341</td>\n",
              "    </tr>\n",
              "    <tr>\n",
              "      <th>3</th>\n",
              "      <td>10.1.1.106</td>\n",
              "      <td>1190</td>\n",
              "      <td>218</td>\n",
              "      <td>5.458716</td>\n",
              "    </tr>\n",
              "    <tr>\n",
              "      <th>4</th>\n",
              "      <td>10.1.1.109</td>\n",
              "      <td>1244</td>\n",
              "      <td>215</td>\n",
              "      <td>5.786047</td>\n",
              "    </tr>\n",
              "  </tbody>\n",
              "</table>\n",
              "</div>"
            ],
            "text/plain": [
              "   ip_address  week_day  weekend  is_weekend_ratio\n",
              "0    10.1.1.1      1245      201          6.194030\n",
              "1  10.1.1.100      2463      397          6.204030\n",
              "2  10.1.1.101      1260      205          6.146341\n",
              "3  10.1.1.106      1190      218          5.458716\n",
              "4  10.1.1.109      1244      215          5.786047"
            ]
          },
          "execution_count": 33,
          "metadata": {},
          "output_type": "execute_result"
        }
      ]
    },
    {
      "cell_type": "code",
      "metadata": {
        "id": "WDTji6FPlV1s"
      },
      "source": [
        "lean_weekend_counts_avg = weekend_counts_avg[[ip_addr, 'is_weekend_ratio']]"
      ],
      "execution_count": null,
      "outputs": []
    },
    {
      "cell_type": "code",
      "metadata": {
        "id": "Zxc0DulxlV1s",
        "outputId": "f7bbe38b-35d5-4894-f751-799bfddbf3c4"
      },
      "source": [
        "lean_weekend_counts_avg.head()"
      ],
      "execution_count": null,
      "outputs": [
        {
          "data": {
            "text/html": [
              "<div>\n",
              "<style scoped>\n",
              "    .dataframe tbody tr th:only-of-type {\n",
              "        vertical-align: middle;\n",
              "    }\n",
              "\n",
              "    .dataframe tbody tr th {\n",
              "        vertical-align: top;\n",
              "    }\n",
              "\n",
              "    .dataframe thead th {\n",
              "        text-align: right;\n",
              "    }\n",
              "</style>\n",
              "<table border=\"1\" class=\"dataframe\">\n",
              "  <thead>\n",
              "    <tr style=\"text-align: right;\">\n",
              "      <th></th>\n",
              "      <th>ip_address</th>\n",
              "      <th>is_weekend_ratio</th>\n",
              "    </tr>\n",
              "  </thead>\n",
              "  <tbody>\n",
              "    <tr>\n",
              "      <th>0</th>\n",
              "      <td>10.1.1.1</td>\n",
              "      <td>6.194030</td>\n",
              "    </tr>\n",
              "    <tr>\n",
              "      <th>1</th>\n",
              "      <td>10.1.1.100</td>\n",
              "      <td>6.204030</td>\n",
              "    </tr>\n",
              "    <tr>\n",
              "      <th>2</th>\n",
              "      <td>10.1.1.101</td>\n",
              "      <td>6.146341</td>\n",
              "    </tr>\n",
              "    <tr>\n",
              "      <th>3</th>\n",
              "      <td>10.1.1.106</td>\n",
              "      <td>5.458716</td>\n",
              "    </tr>\n",
              "    <tr>\n",
              "      <th>4</th>\n",
              "      <td>10.1.1.109</td>\n",
              "      <td>5.786047</td>\n",
              "    </tr>\n",
              "  </tbody>\n",
              "</table>\n",
              "</div>"
            ],
            "text/plain": [
              "   ip_address  is_weekend_ratio\n",
              "0    10.1.1.1          6.194030\n",
              "1  10.1.1.100          6.204030\n",
              "2  10.1.1.101          6.146341\n",
              "3  10.1.1.106          5.458716\n",
              "4  10.1.1.109          5.786047"
            ]
          },
          "execution_count": 35,
          "metadata": {},
          "output_type": "execute_result"
        }
      ]
    },
    {
      "cell_type": "code",
      "metadata": {
        "id": "0jBWHANKlV1t"
      },
      "source": [
        "avg_time_data = df.groupby(ip_addr).agg({'time_diff':['mean','max']}).reset_index()"
      ],
      "execution_count": null,
      "outputs": []
    },
    {
      "cell_type": "code",
      "metadata": {
        "id": "13HrrhV4lV1u",
        "outputId": "a74b209c-e39e-4321-815f-dce2933480cf"
      },
      "source": [
        "avg_time_data.head()"
      ],
      "execution_count": null,
      "outputs": [
        {
          "data": {
            "text/html": [
              "<div>\n",
              "<style scoped>\n",
              "    .dataframe tbody tr th:only-of-type {\n",
              "        vertical-align: middle;\n",
              "    }\n",
              "\n",
              "    .dataframe tbody tr th {\n",
              "        vertical-align: top;\n",
              "    }\n",
              "\n",
              "    .dataframe thead tr th {\n",
              "        text-align: left;\n",
              "    }\n",
              "</style>\n",
              "<table border=\"1\" class=\"dataframe\">\n",
              "  <thead>\n",
              "    <tr>\n",
              "      <th></th>\n",
              "      <th>ip_address</th>\n",
              "      <th colspan=\"2\" halign=\"left\">time_diff</th>\n",
              "    </tr>\n",
              "    <tr>\n",
              "      <th></th>\n",
              "      <th></th>\n",
              "      <th>mean</th>\n",
              "      <th>max</th>\n",
              "    </tr>\n",
              "  </thead>\n",
              "  <tbody>\n",
              "    <tr>\n",
              "      <th>0</th>\n",
              "      <td>10.1.1.1</td>\n",
              "      <td>28.999308</td>\n",
              "      <td>362.0</td>\n",
              "    </tr>\n",
              "    <tr>\n",
              "      <th>1</th>\n",
              "      <td>10.1.1.100</td>\n",
              "      <td>14.427072</td>\n",
              "      <td>185.0</td>\n",
              "    </tr>\n",
              "    <tr>\n",
              "      <th>2</th>\n",
              "      <td>10.1.1.101</td>\n",
              "      <td>28.520492</td>\n",
              "      <td>211.0</td>\n",
              "    </tr>\n",
              "    <tr>\n",
              "      <th>3</th>\n",
              "      <td>10.1.1.106</td>\n",
              "      <td>29.771144</td>\n",
              "      <td>319.0</td>\n",
              "    </tr>\n",
              "    <tr>\n",
              "      <th>4</th>\n",
              "      <td>10.1.1.109</td>\n",
              "      <td>28.711934</td>\n",
              "      <td>278.0</td>\n",
              "    </tr>\n",
              "  </tbody>\n",
              "</table>\n",
              "</div>"
            ],
            "text/plain": [
              "   ip_address  time_diff       \n",
              "                    mean    max\n",
              "0    10.1.1.1  28.999308  362.0\n",
              "1  10.1.1.100  14.427072  185.0\n",
              "2  10.1.1.101  28.520492  211.0\n",
              "3  10.1.1.106  29.771144  319.0\n",
              "4  10.1.1.109  28.711934  278.0"
            ]
          },
          "execution_count": 37,
          "metadata": {},
          "output_type": "execute_result"
        }
      ]
    },
    {
      "cell_type": "code",
      "metadata": {
        "id": "QnFf-rc_lV1v"
      },
      "source": [
        "avg_time_data.columns = avg_time_data.columns.droplevel()"
      ],
      "execution_count": null,
      "outputs": []
    },
    {
      "cell_type": "code",
      "metadata": {
        "id": "9W9QG3aNlV1v"
      },
      "source": [
        "avg_time_data.columns = [ip_addr, 'td_mean', 'td_max']"
      ],
      "execution_count": null,
      "outputs": []
    },
    {
      "cell_type": "markdown",
      "metadata": {
        "id": "qXfXGb2HlV1w"
      },
      "source": [
        "calulating the mean and max for time_diff column and labelling as td_mean and td_max"
      ]
    },
    {
      "cell_type": "code",
      "metadata": {
        "id": "rhnuY3YulV1w",
        "outputId": "32e051df-ead8-490e-f717-dadd3535145e"
      },
      "source": [
        "avg_time_data.head()"
      ],
      "execution_count": null,
      "outputs": [
        {
          "data": {
            "text/html": [
              "<div>\n",
              "<style scoped>\n",
              "    .dataframe tbody tr th:only-of-type {\n",
              "        vertical-align: middle;\n",
              "    }\n",
              "\n",
              "    .dataframe tbody tr th {\n",
              "        vertical-align: top;\n",
              "    }\n",
              "\n",
              "    .dataframe thead th {\n",
              "        text-align: right;\n",
              "    }\n",
              "</style>\n",
              "<table border=\"1\" class=\"dataframe\">\n",
              "  <thead>\n",
              "    <tr style=\"text-align: right;\">\n",
              "      <th></th>\n",
              "      <th>ip_address</th>\n",
              "      <th>td_mean</th>\n",
              "      <th>td_max</th>\n",
              "    </tr>\n",
              "  </thead>\n",
              "  <tbody>\n",
              "    <tr>\n",
              "      <th>0</th>\n",
              "      <td>10.1.1.1</td>\n",
              "      <td>28.999308</td>\n",
              "      <td>362.0</td>\n",
              "    </tr>\n",
              "    <tr>\n",
              "      <th>1</th>\n",
              "      <td>10.1.1.100</td>\n",
              "      <td>14.427072</td>\n",
              "      <td>185.0</td>\n",
              "    </tr>\n",
              "    <tr>\n",
              "      <th>2</th>\n",
              "      <td>10.1.1.101</td>\n",
              "      <td>28.520492</td>\n",
              "      <td>211.0</td>\n",
              "    </tr>\n",
              "    <tr>\n",
              "      <th>3</th>\n",
              "      <td>10.1.1.106</td>\n",
              "      <td>29.771144</td>\n",
              "      <td>319.0</td>\n",
              "    </tr>\n",
              "    <tr>\n",
              "      <th>4</th>\n",
              "      <td>10.1.1.109</td>\n",
              "      <td>28.711934</td>\n",
              "      <td>278.0</td>\n",
              "    </tr>\n",
              "  </tbody>\n",
              "</table>\n",
              "</div>"
            ],
            "text/plain": [
              "   ip_address    td_mean  td_max\n",
              "0    10.1.1.1  28.999308   362.0\n",
              "1  10.1.1.100  14.427072   185.0\n",
              "2  10.1.1.101  28.520492   211.0\n",
              "3  10.1.1.106  29.771144   319.0\n",
              "4  10.1.1.109  28.711934   278.0"
            ]
          },
          "execution_count": 40,
          "metadata": {},
          "output_type": "execute_result"
        }
      ]
    },
    {
      "cell_type": "markdown",
      "metadata": {
        "id": "l-PoX77hlV1x"
      },
      "source": [
        "## Total Features Set "
      ]
    },
    {
      "cell_type": "code",
      "metadata": {
        "id": "W9zQsZCJlV1x"
      },
      "source": [
        "mer_1 = ip_counts.merge(daily_counts_avg, on=ip_addr, how='left')"
      ],
      "execution_count": null,
      "outputs": []
    },
    {
      "cell_type": "code",
      "metadata": {
        "id": "Fe8lVbLZlV1y"
      },
      "source": [
        "mer_2 = mer_1.merge(lean_weekend_counts_avg, on=ip_addr, how='left')"
      ],
      "execution_count": null,
      "outputs": []
    },
    {
      "cell_type": "code",
      "metadata": {
        "id": "leO3mroKlV1y"
      },
      "source": [
        "final_dataset = mer_2.merge(avg_time_data, on=ip_addr, how='left')"
      ],
      "execution_count": null,
      "outputs": []
    },
    {
      "cell_type": "code",
      "metadata": {
        "id": "gHf1LaRclV1z",
        "outputId": "b64fa810-1b57-4b81-e495-33eca3b72489"
      },
      "source": [
        "final_dataset.head()"
      ],
      "execution_count": null,
      "outputs": [
        {
          "data": {
            "text/html": [
              "<div>\n",
              "<style scoped>\n",
              "    .dataframe tbody tr th:only-of-type {\n",
              "        vertical-align: middle;\n",
              "    }\n",
              "\n",
              "    .dataframe tbody tr th {\n",
              "        vertical-align: top;\n",
              "    }\n",
              "\n",
              "    .dataframe thead th {\n",
              "        text-align: right;\n",
              "    }\n",
              "</style>\n",
              "<table border=\"1\" class=\"dataframe\">\n",
              "  <thead>\n",
              "    <tr style=\"text-align: right;\">\n",
              "      <th></th>\n",
              "      <th>ip_address</th>\n",
              "      <th>total_count</th>\n",
              "      <th>daily_counts</th>\n",
              "      <th>is_weekend_ratio</th>\n",
              "      <th>td_mean</th>\n",
              "      <th>td_max</th>\n",
              "    </tr>\n",
              "  </thead>\n",
              "  <tbody>\n",
              "    <tr>\n",
              "      <th>0</th>\n",
              "      <td>10.1.1.1</td>\n",
              "      <td>1446</td>\n",
              "      <td>40.0</td>\n",
              "      <td>6.194030</td>\n",
              "      <td>28.999308</td>\n",
              "      <td>362.0</td>\n",
              "    </tr>\n",
              "    <tr>\n",
              "      <th>1</th>\n",
              "      <td>10.1.1.100</td>\n",
              "      <td>2860</td>\n",
              "      <td>78.0</td>\n",
              "      <td>6.204030</td>\n",
              "      <td>14.427072</td>\n",
              "      <td>185.0</td>\n",
              "    </tr>\n",
              "    <tr>\n",
              "      <th>2</th>\n",
              "      <td>10.1.1.101</td>\n",
              "      <td>1465</td>\n",
              "      <td>40.0</td>\n",
              "      <td>6.146341</td>\n",
              "      <td>28.520492</td>\n",
              "      <td>211.0</td>\n",
              "    </tr>\n",
              "    <tr>\n",
              "      <th>3</th>\n",
              "      <td>10.1.1.106</td>\n",
              "      <td>1408</td>\n",
              "      <td>35.5</td>\n",
              "      <td>5.458716</td>\n",
              "      <td>29.771144</td>\n",
              "      <td>319.0</td>\n",
              "    </tr>\n",
              "    <tr>\n",
              "      <th>4</th>\n",
              "      <td>10.1.1.109</td>\n",
              "      <td>1459</td>\n",
              "      <td>42.5</td>\n",
              "      <td>5.786047</td>\n",
              "      <td>28.711934</td>\n",
              "      <td>278.0</td>\n",
              "    </tr>\n",
              "  </tbody>\n",
              "</table>\n",
              "</div>"
            ],
            "text/plain": [
              "   ip_address  total_count  daily_counts  is_weekend_ratio    td_mean  td_max\n",
              "0    10.1.1.1         1446          40.0          6.194030  28.999308   362.0\n",
              "1  10.1.1.100         2860          78.0          6.204030  14.427072   185.0\n",
              "2  10.1.1.101         1465          40.0          6.146341  28.520492   211.0\n",
              "3  10.1.1.106         1408          35.5          5.458716  29.771144   319.0\n",
              "4  10.1.1.109         1459          42.5          5.786047  28.711934   278.0"
            ]
          },
          "execution_count": 44,
          "metadata": {},
          "output_type": "execute_result"
        }
      ]
    },
    {
      "cell_type": "code",
      "metadata": {
        "id": "cut59D3TlV10"
      },
      "source": [
        "ip_map = final_dataset[ip_addr].to_dict()"
      ],
      "execution_count": null,
      "outputs": []
    },
    {
      "cell_type": "code",
      "metadata": {
        "id": "hAzRfJWOlV10"
      },
      "source": [
        "RANDOM_STATE = 30"
      ],
      "execution_count": null,
      "outputs": []
    },
    {
      "cell_type": "markdown",
      "metadata": {
        "id": "ZLrp0QmjlV11"
      },
      "source": [
        "# KMeans"
      ]
    },
    {
      "cell_type": "code",
      "metadata": {
        "id": "wctDrnz3lV11"
      },
      "source": [
        "from sklearn.cluster import KMeans"
      ],
      "execution_count": null,
      "outputs": []
    },
    {
      "cell_type": "code",
      "metadata": {
        "id": "xadjGs39lV12",
        "outputId": "f30baeaf-7ee4-4699-b420-4a86d394eb04"
      },
      "source": [
        "final_dataset.columns"
      ],
      "execution_count": null,
      "outputs": [
        {
          "data": {
            "text/plain": [
              "Index(['ip_address', 'total_count', 'daily_counts', 'is_weekend_ratio',\n",
              "       'td_mean', 'td_max'],\n",
              "      dtype='object')"
            ]
          },
          "execution_count": 48,
          "metadata": {},
          "output_type": "execute_result"
        }
      ]
    },
    {
      "cell_type": "markdown",
      "metadata": {
        "id": "o2-PBgD3lV12"
      },
      "source": [
        "Displaying the columns present in the final_dataset"
      ]
    },
    {
      "cell_type": "code",
      "metadata": {
        "id": "GdSzfJf8lV13"
      },
      "source": [
        "requi_feature_cols = ['total_count', 'daily_counts', 'is_weekend_ratio', 'td_mean', 'td_max']"
      ],
      "execution_count": null,
      "outputs": []
    },
    {
      "cell_type": "code",
      "metadata": {
        "id": "R9W_O0JSlV13"
      },
      "source": [
        "new_data = final_dataset[requi_feature_cols]"
      ],
      "execution_count": null,
      "outputs": []
    },
    {
      "cell_type": "code",
      "metadata": {
        "id": "GqZULInBlV14"
      },
      "source": [
        "min_max_scaler = preprocessing.MinMaxScaler()"
      ],
      "execution_count": null,
      "outputs": []
    },
    {
      "cell_type": "code",
      "metadata": {
        "id": "J9IiA3xklV14"
      },
      "source": [
        "data_scaled = min_max_scaler.fit_transform(new_data)\n",
        "new_data = pd.DataFrame(data_scaled,columns=requi_feature_cols)"
      ],
      "execution_count": null,
      "outputs": []
    },
    {
      "cell_type": "code",
      "metadata": {
        "id": "tzA_4e1elV15"
      },
      "source": [
        "import seaborn as sns\n",
        "from mpl_toolkits.mplot3d import Axes3D"
      ],
      "execution_count": null,
      "outputs": []
    },
    {
      "cell_type": "code",
      "metadata": {
        "id": "MSFJuZFRlV15",
        "outputId": "1dee6c2b-f648-4e65-8e83-de5dd26d5b57"
      },
      "source": [
        "sns.pairplot(final_dataset[requi_feature_cols])"
      ],
      "execution_count": null,
      "outputs": [
        {
          "data": {
            "text/plain": [
              "<seaborn.axisgrid.PairGrid at 0x2148f6df208>"
            ]
          },
          "execution_count": 54,
          "metadata": {},
          "output_type": "execute_result"
        },
        {
          "data": {
            "image/png": "[encoded data removed]",
            "text/plain": [
              "<Figure size 900x900 with 30 Axes>"
            ]
          },
          "metadata": {
            "needs_background": "light"
          },
          "output_type": "display_data"
        }
      ]
    },
    {
      "cell_type": "code",
      "metadata": {
        "id": "meX9uvUMlV16",
        "outputId": "19d89656-0d4c-40bf-c100-f02ae9cd91d2"
      },
      "source": [
        "sns.pairplot(new_data)"
      ],
      "execution_count": null,
      "outputs": [
        {
          "data": {
            "text/plain": [
              "<seaborn.axisgrid.PairGrid at 0x214945d0208>"
            ]
          },
          "execution_count": 55,
          "metadata": {},
          "output_type": "execute_result"
        },
        {
          "data": {
            "image/png": "[encoded data removed]",
            "text/plain": [
              "<Figure size 900x900 with 30 Axes>"
            ]
          },
          "metadata": {
            "needs_background": "light"
          },
          "output_type": "display_data"
        }
      ]
    },
    {
      "cell_type": "code",
      "metadata": {
        "id": "_Id6T4i2lV16"
      },
      "source": [
        "cluster_num = range(1,15)"
      ],
      "execution_count": null,
      "outputs": []
    },
    {
      "cell_type": "code",
      "metadata": {
        "id": "LFoa4DnClV17"
      },
      "source": [
        "kmeans = [KMeans(n_clusters=i, random_state=RANDOM_STATE).fit(new_data) for i in cluster_num]"
      ],
      "execution_count": null,
      "outputs": []
    },
    {
      "cell_type": "code",
      "metadata": {
        "id": "2ZHBUKGflV17",
        "outputId": "819b18d4-90ed-4589-ae79-539001cd97e2"
      },
      "source": [
        "kmeans"
      ],
      "execution_count": null,
      "outputs": [
        {
          "data": {
            "text/plain": [
              "[KMeans(n_clusters=1, random_state=30),\n",
              " KMeans(n_clusters=2, random_state=30),\n",
              " KMeans(n_clusters=3, random_state=30),\n",
              " KMeans(n_clusters=4, random_state=30),\n",
              " KMeans(n_clusters=5, random_state=30),\n",
              " KMeans(n_clusters=6, random_state=30),\n",
              " KMeans(n_clusters=7, random_state=30),\n",
              " KMeans(random_state=30),\n",
              " KMeans(n_clusters=9, random_state=30),\n",
              " KMeans(n_clusters=10, random_state=30),\n",
              " KMeans(n_clusters=11, random_state=30),\n",
              " KMeans(n_clusters=12, random_state=30),\n",
              " KMeans(n_clusters=13, random_state=30),\n",
              " KMeans(n_clusters=14, random_state=30)]"
            ]
          },
          "execution_count": 58,
          "metadata": {},
          "output_type": "execute_result"
        }
      ]
    },
    {
      "cell_type": "code",
      "metadata": {
        "id": "V2HbnArllV18"
      },
      "source": [
        "scores = [kmeans[i].score(new_data) for i in range(len(kmeans))]"
      ],
      "execution_count": null,
      "outputs": []
    },
    {
      "cell_type": "code",
      "metadata": {
        "id": "D3CFaRMYlV19",
        "outputId": "6930c1f6-e09f-4d0e-a54e-c7af94e99394"
      },
      "source": [
        "scores"
      ],
      "execution_count": null,
      "outputs": [
        {
          "data": {
            "text/plain": [
              "[-105.61717382018342,\n",
              " -22.66249794058993,\n",
              " -15.57840280659395,\n",
              " -11.341164011177808,\n",
              " -9.259299744695017,\n",
              " -7.683728512855124,\n",
              " -6.606023685500107,\n",
              " -5.794806058723629,\n",
              " -5.122812630205779,\n",
              " -4.660301215865439,\n",
              " -4.318797070990928,\n",
              " -4.008893873576492,\n",
              " -3.7715924690517157,\n",
              " -3.5178420841110003]"
            ]
          },
          "execution_count": 60,
          "metadata": {},
          "output_type": "execute_result"
        }
      ]
    },
    {
      "cell_type": "code",
      "metadata": {
        "id": "eJKT9T2klV19",
        "outputId": "c10bfac0-e607-4752-9541-2fa29afd6b96"
      },
      "source": [
        "fig, sd = plt.subplots()\n",
        "sd.plot(cluster_num,scores)\n",
        "plt.show()"
      ],
      "execution_count": null,
      "outputs": [
        {
          "data": {
            "image/png": "[encoded data removed]",
            "text/plain": [
              "<Figure size 432x288 with 1 Axes>"
            ]
          },
          "metadata": {
            "needs_background": "light"
          },
          "output_type": "display_data"
        }
      ]
    },
    {
      "cell_type": "markdown",
      "metadata": {
        "id": "sXYa2GQBlV1-"
      },
      "source": [
        "Displays the graph between no of clusters taken (i.e., 15) and scores calculate using kmeans"
      ]
    },
    {
      "cell_type": "code",
      "metadata": {
        "id": "mzg-IaNklV1-"
      },
      "source": [
        "kmeans_cluster_model=kmeans[5]"
      ],
      "execution_count": null,
      "outputs": []
    },
    {
      "cell_type": "code",
      "metadata": {
        "id": "msbbrp9BlV1_",
        "outputId": "ea8c3be8-1be5-453c-a728-bd34ba5a821e"
      },
      "source": [
        "kmeans_cluster_model"
      ],
      "execution_count": null,
      "outputs": [
        {
          "data": {
            "text/plain": [
              "KMeans(n_clusters=6, random_state=30)"
            ]
          },
          "execution_count": 63,
          "metadata": {},
          "output_type": "execute_result"
        }
      ]
    },
    {
      "cell_type": "code",
      "metadata": {
        "id": "gd5_GSyylV1_",
        "outputId": "54cca700-89db-4258-fd5c-2d9e1b99e00a"
      },
      "source": [
        "final_dataset['cluster'] = kmeans_cluster_model.predict(new_data)\n",
        "final_dataset['cluster'].value_counts()"
      ],
      "execution_count": null,
      "outputs": [
        {
          "data": {
            "text/plain": [
              "1    98\n",
              "2    94\n",
              "0    71\n",
              "3    64\n",
              "5    49\n",
              "4    10\n",
              "Name: cluster, dtype: int64"
            ]
          },
          "execution_count": 64,
          "metadata": {},
          "output_type": "execute_result"
        }
      ]
    },
    {
      "cell_type": "markdown",
      "metadata": {
        "id": "2S-m8dGdlV2A"
      },
      "source": [
        "# Clustering model with TSNE"
      ]
    },
    {
      "cell_type": "markdown",
      "metadata": {
        "id": "RMb85k4FlV2B"
      },
      "source": [
        "t-Distributed Stochastic Neighbor Embedding (t-SNE)"
      ]
    },
    {
      "cell_type": "code",
      "metadata": {
        "id": "QmHygBlmlV2B"
      },
      "source": [
        "from sklearn.manifold import TSNE"
      ],
      "execution_count": null,
      "outputs": []
    },
    {
      "cell_type": "code",
      "metadata": {
        "id": "6ENaf400lV2B"
      },
      "source": [
        "tsne = TSNE(n_components=2, verbose=1, perplexity=40, n_iter=300, random_state=RANDOM_STATE)"
      ],
      "execution_count": null,
      "outputs": []
    },
    {
      "cell_type": "code",
      "metadata": {
        "id": "_b95wdNglV2C",
        "outputId": "7624f6f9-f872-450e-eb61-f4b822f11fd9"
      },
      "source": [
        "tsne_result = tsne.fit_transform(new_data)"
      ],
      "execution_count": null,
      "outputs": [
        {
          "name": "stdout",
          "output_type": "stream",
          "text": [
            "[t-SNE] Computing 121 nearest neighbors...\n",
            "[t-SNE] Indexed 386 samples in 0.000s...\n",
            "[t-SNE] Computed neighbors for 386 samples in 0.021s...\n",
            "[t-SNE] Computed conditional probabilities for sample 386 / 386\n",
            "[t-SNE] Mean sigma: 0.081652\n",
            "[t-SNE] KL divergence after 250 iterations with early exaggeration: 56.094070\n",
            "[t-SNE] KL divergence after 300 iterations: 0.289911\n"
          ]
        }
      ]
    },
    {
      "cell_type": "code",
      "metadata": {
        "id": "7ucgbrU0lV2D",
        "outputId": "1c1b6140-e31f-4116-c8c7-b20e6b550079"
      },
      "source": [
        "tsne_result"
      ],
      "execution_count": null,
      "outputs": [
        {
          "data": {
            "text/plain": [
              "array([[ 1.19360590e+00,  3.76524663e+00],\n",
              "       [ 1.48508215e+01, -6.47645664e+00],\n",
              "       [-8.91181183e+00, -1.13720238e+00],\n",
              "       [-5.81109619e+00,  1.17533770e+01],\n",
              "       [-6.78442812e+00,  7.71934319e+00],\n",
              "       [-1.04951887e+01,  5.59534550e+00],\n",
              "       [-6.07558966e+00,  1.09000711e+01],\n",
              "       [-1.86453152e+00, -5.29438925e+00],\n",
              "       [-1.03995714e+01,  3.90814328e+00],\n",
              "       [-9.10949898e+00,  1.33799257e+01],\n",
              "       [-2.31459594e+00,  7.09469509e+00],\n",
              "       [-7.09908152e+00,  9.33714199e+00],\n",
              "       [-7.26400375e+00,  1.30282164e+00],\n",
              "       [-1.21029353e+00, -5.82739639e+00],\n",
              "       [-6.89670134e+00,  1.17153969e+01],\n",
              "       [ 1.02316380e+01, -1.16813822e+01],\n",
              "       [-9.62858868e+00,  4.44980812e+00],\n",
              "       [-1.87756348e+00, -3.96047354e+00],\n",
              "       [ 1.27354965e+01, -4.41058111e+00],\n",
              "       [-1.15563278e+01,  3.50963902e+00],\n",
              "       [ 1.20892372e+01, -6.12156057e+00],\n",
              "       [-6.57936811e+00, -4.13710165e+00],\n",
              "       [ 1.41045132e+01, -6.76979876e+00],\n",
              "       [ 1.38804507e+00,  1.98744059e+00],\n",
              "       [-4.93494558e+00,  6.77635849e-01],\n",
              "       [ 1.33184395e+01, -3.80334187e+00],\n",
              "       [-7.82951927e+00,  5.52856398e+00],\n",
              "       [ 1.35876856e+01, -7.08480310e+00],\n",
              "       [-2.81028080e+00,  4.47215748e+00],\n",
              "       [ 1.16933231e+01, -1.10068760e+01],\n",
              "       [-8.53777790e+00,  2.74451590e+00],\n",
              "       [-8.14431190e-01, -6.41138935e+00],\n",
              "       [-8.53858757e+00,  1.27623825e+01],\n",
              "       [-8.66090679e+00,  1.25989256e+01],\n",
              "       [ 9.83036160e-01, -5.44078064e+00],\n",
              "       [-1.06325941e+01,  1.03181753e+01],\n",
              "       [-2.43612909e+00, -3.59598613e+00],\n",
              "       [-7.61967421e+00,  1.35209332e+01],\n",
              "       [-1.02853632e+01,  4.27476263e+00],\n",
              "       [ 1.32889051e+01, -7.88138485e+00],\n",
              "       [ 1.03410082e+01, -1.05499668e+01],\n",
              "       [-1.03228340e+01,  1.21593666e+01],\n",
              "       [ 3.12408018e+00,  2.09312010e+00],\n",
              "       [-4.50523520e+00,  1.10213699e+01],\n",
              "       [ 1.47311287e+01, -5.63981152e+00],\n",
              "       [-9.72751331e+00,  3.37104702e+00],\n",
              "       [-9.89149952e+00,  4.89974833e+00],\n",
              "       [-5.38724518e+00,  7.88001728e+00],\n",
              "       [ 2.93249822e+00,  2.41253638e+00],\n",
              "       [ 1.04590521e+01, -9.90258408e+00],\n",
              "       [ 1.16850224e+01, -6.78025770e+00],\n",
              "       [-3.36458278e+00,  1.78587127e+00],\n",
              "       [-6.65641546e+00,  5.12180948e+00],\n",
              "       [-8.69571018e+00,  2.98241568e+00],\n",
              "       [ 2.89468646e-01, -9.10286307e-01],\n",
              "       [-8.49935293e-01,  1.58647180e+00],\n",
              "       [ 4.32064831e-01, -6.64452219e+00],\n",
              "       [ 1.16930342e+00, -3.46297312e+00],\n",
              "       [-3.95075250e+00,  9.11573601e+00],\n",
              "       [-9.19805145e+00,  1.77596286e-02],\n",
              "       [-7.41672802e+00,  1.33829937e+01],\n",
              "       [-6.74701977e+00,  1.00541651e+00],\n",
              "       [ 1.52518368e+01, -1.42663250e+01],\n",
              "       [ 1.91042209e+00,  3.93645501e+00],\n",
              "       [ 2.44943190e+00, -2.07662654e+00],\n",
              "       [-5.86618519e+00,  4.86543715e-01],\n",
              "       [ 1.42405510e+01, -4.35397625e+00],\n",
              "       [ 1.56245832e+01, -8.24457359e+00],\n",
              "       [-1.11488533e+01,  7.19316053e+00],\n",
              "       [-2.57476783e+00,  1.36619544e+00],\n",
              "       [-1.02779789e+01,  8.75785828e+00],\n",
              "       [-1.16490593e+01,  4.79035807e+00],\n",
              "       [-6.46420658e-01, -2.25696468e+00],\n",
              "       [-8.39374542e+00, -1.49536467e+00],\n",
              "       [-1.81604016e+00,  2.88861442e+00],\n",
              "       [-3.28963566e+00, -4.63541937e+00],\n",
              "       [ 1.32078305e-01,  2.12860084e+00],\n",
              "       [-1.01586885e+01,  1.00928707e+01],\n",
              "       [-1.88800871e+00, -6.01181221e+00],\n",
              "       [-1.63272190e+00, -4.85989857e+00],\n",
              "       [-7.19622755e+00,  1.54816043e+00],\n",
              "       [-7.81227589e+00,  3.59562421e+00],\n",
              "       [ 1.49744720e+01, -4.56597424e+00],\n",
              "       [-7.46730661e+00,  7.24653530e+00],\n",
              "       [-5.49240685e+00, -4.12455177e+00],\n",
              "       [ 7.86988199e-01, -3.20631838e+00],\n",
              "       [-4.33403015e+00,  6.66294241e+00],\n",
              "       [ 1.46430159e+01, -2.54402637e+00],\n",
              "       [-5.54485846e+00,  8.44693470e+00],\n",
              "       [ 1.06200581e+01, -1.18031139e+01],\n",
              "       [-9.17992306e+00,  5.08896255e+00],\n",
              "       [-4.02333021e+00,  7.60397577e+00],\n",
              "       [ 2.51422334e+00, -2.15062594e+00],\n",
              "       [-9.34194088e+00,  1.23547249e+01],\n",
              "       [-5.90978479e+00,  1.05603981e+01],\n",
              "       [ 1.10012159e+01, -8.66019154e+00],\n",
              "       [ 1.18984051e+01, -1.21629009e+01],\n",
              "       [-6.90604448e+00, -3.39654112e+00],\n",
              "       [-2.52282023e+00,  7.16063738e+00],\n",
              "       [ 1.09007206e+01, -9.49072456e+00],\n",
              "       [ 1.43024797e+01, -4.62221384e+00],\n",
              "       [ 1.27198086e+01, -7.14032459e+00],\n",
              "       [-2.11342835e+00, -3.51127648e+00],\n",
              "       [-8.73229027e+00,  5.30960846e+00],\n",
              "       [-3.94022059e+00, -4.47827291e+00],\n",
              "       [-3.35088110e+00,  3.17912650e+00],\n",
              "       [-2.85670447e+00,  7.48521984e-01],\n",
              "       [ 2.38123798e+00, -4.32428503e+00],\n",
              "       [-1.00527296e+01,  4.91620779e+00],\n",
              "       [-5.83670282e+00,  8.93843174e+00],\n",
              "       [-7.52254057e+00,  4.94257879e+00],\n",
              "       [-7.72837734e+00,  1.91184545e+00],\n",
              "       [-6.93057775e+00,  7.40620136e+00],\n",
              "       [-5.33853817e+00,  2.29370809e+00],\n",
              "       [-1.15797310e+01,  4.65690613e+00],\n",
              "       [ 1.38966656e+01, -4.20019341e+00],\n",
              "       [-1.05921402e+01,  4.89527845e+00],\n",
              "       [ 3.64170164e-01,  6.26031590e+00],\n",
              "       [ 1.55637236e+01, -1.40717688e+01],\n",
              "       [-5.09829092e+00,  3.87013817e+00],\n",
              "       [-4.42569447e+00,  9.47684956e+00],\n",
              "       [-1.75900662e+00,  2.51605177e+00],\n",
              "       [-9.82015705e+00,  1.05400715e+01],\n",
              "       [-1.06931753e+01,  8.26379585e+00],\n",
              "       [-5.68362331e+00,  1.04589930e+01],\n",
              "       [ 1.40957556e+01, -7.02557278e+00],\n",
              "       [-2.40477279e-01,  7.78747511e+00],\n",
              "       [-4.92747593e+00,  3.02868176e+00],\n",
              "       [ 1.19869537e+01, -5.42701912e+00],\n",
              "       [ 1.17499456e+01, -9.92892361e+00],\n",
              "       [ 1.21780472e+01, -7.49430084e+00],\n",
              "       [ 1.05208235e+01, -1.11145020e+01],\n",
              "       [-7.04138851e+00,  6.48657513e+00],\n",
              "       [-8.05632782e+00,  6.99884033e+00],\n",
              "       [ 9.77213097e+00, -1.13994102e+01],\n",
              "       [ 1.33360062e+01, -4.31278896e+00],\n",
              "       [-6.46843624e+00, -2.89963627e+00],\n",
              "       [ 1.24842405e+01, -5.32257223e+00],\n",
              "       [-5.04126883e+00, -1.62822974e+00],\n",
              "       [-3.87872386e+00, -6.05972588e-01],\n",
              "       [-6.06463528e+00, -1.62827981e+00],\n",
              "       [-2.82918882e+00, -4.13667536e+00],\n",
              "       [-7.07040596e+00,  8.29296303e+00],\n",
              "       [-3.28926587e+00,  8.05813313e+00],\n",
              "       [ 1.27178020e+01, -6.93145370e+00],\n",
              "       [ 4.56020504e-01, -5.46054649e+00],\n",
              "       [-2.69472623e+00,  2.06804180e+00],\n",
              "       [-2.30382547e-01,  6.88871050e+00],\n",
              "       [-3.71516895e+00,  9.39817619e+00],\n",
              "       [-1.16114378e+00,  7.77407598e+00],\n",
              "       [ 1.22101851e+01, -8.36844063e+00],\n",
              "       [ 1.17583208e+01, -1.09103632e+01],\n",
              "       [-3.30884308e-02,  6.29440308e-01],\n",
              "       [-2.02318534e-01,  3.41872764e+00],\n",
              "       [-1.40161955e+00, -1.87016332e+00],\n",
              "       [ 1.46216497e+01, -3.41253996e+00],\n",
              "       [-4.98149157e+00, -2.53284478e+00],\n",
              "       [-1.01752388e+00, -6.68752050e+00],\n",
              "       [-6.13255072e+00,  9.94711304e+00],\n",
              "       [-5.56851514e-02, -3.26406837e+00],\n",
              "       [ 1.25988877e+00,  4.91356564e+00],\n",
              "       [ 1.27505598e+01, -7.22992849e+00],\n",
              "       [ 1.31297421e+00,  1.09419726e-01],\n",
              "       [ 2.14454317e+00, -5.80242825e+00],\n",
              "       [ 1.49191256e+01, -1.43283291e+01],\n",
              "       [-5.32378554e-01,  9.41334534e+00],\n",
              "       [-1.02169762e+01,  9.60378742e+00],\n",
              "       [ 2.80531549e+00, -5.25982261e-01],\n",
              "       [ 1.40013294e+01, -5.29113817e+00],\n",
              "       [-8.69070244e+00,  9.91950417e+00],\n",
              "       [-3.81879902e+00,  2.48540068e+00],\n",
              "       [ 9.85809231e+00, -1.12409534e+01],\n",
              "       [ 1.32305756e+01, -9.00781631e+00],\n",
              "       [-4.03270626e+00, -2.02963400e+00],\n",
              "       [ 1.40867901e+01, -4.85906887e+00],\n",
              "       [ 1.05021744e+01, -9.25880718e+00],\n",
              "       [-2.03638673e+00,  9.78306198e+00],\n",
              "       [ 1.53617306e+01, -1.41730642e+01],\n",
              "       [ 1.37111559e+01, -5.39098072e+00],\n",
              "       [-5.44437838e+00, -1.55366051e+00],\n",
              "       [-9.44408119e-01,  9.22029781e+00],\n",
              "       [-7.67498589e+00,  5.72211599e+00],\n",
              "       [-4.86345625e+00,  9.54812717e+00],\n",
              "       [-1.17962990e+01,  9.84965038e+00],\n",
              "       [-3.02714396e+00,  8.85608482e+00],\n",
              "       [ 1.50688076e+01, -6.57322121e+00],\n",
              "       [-2.73363137e+00,  2.58141667e-01],\n",
              "       [-3.59428287e-01,  8.08649254e+00],\n",
              "       [ 1.54105902e+01, -1.41027117e+01],\n",
              "       [ 1.04263315e+01, -1.12715921e+01],\n",
              "       [ 1.41988659e+01, -2.94610167e+00],\n",
              "       [ 1.35973177e+01, -7.70097923e+00],\n",
              "       [-7.65923023e+00,  1.15532761e+01],\n",
              "       [-9.21935272e+00,  3.60492539e+00],\n",
              "       [ 1.14554586e+01, -1.14249907e+01],\n",
              "       [-8.13966274e+00,  1.22939358e+01],\n",
              "       [-2.35364771e+00, -2.53436685e+00],\n",
              "       [-5.81659651e+00,  9.60961819e+00],\n",
              "       [-6.91408253e+00,  3.09703445e+00],\n",
              "       [-6.95246458e+00,  8.60378170e+00],\n",
              "       [-6.48062658e+00,  7.64177990e+00],\n",
              "       [-4.99747992e+00,  1.21798868e+01],\n",
              "       [-1.16758261e+01,  9.27373600e+00],\n",
              "       [-7.35096979e+00, -2.02844095e+00],\n",
              "       [ 1.40006769e+00, -3.65108609e+00],\n",
              "       [-5.10131216e+00,  7.26025629e+00],\n",
              "       [-2.15200424e+00, -7.10391855e+00],\n",
              "       [-9.22134686e+00,  2.53734255e+00],\n",
              "       [ 9.96291924e+00, -1.18797951e+01],\n",
              "       [-8.65844250e+00,  1.20015984e+01],\n",
              "       [-9.25215149e+00,  4.45782328e+00],\n",
              "       [ 1.02227297e+01, -1.04763966e+01],\n",
              "       [-1.10819459e+00, -5.52008867e+00],\n",
              "       [ 1.05784054e+01, -9.86495018e+00],\n",
              "       [-6.60902119e+00,  8.45316410e+00],\n",
              "       [ 1.12135887e+01, -9.54691696e+00],\n",
              "       [ 2.17386794e+00, -5.06043816e+00],\n",
              "       [-1.10890694e+01,  2.66139531e+00],\n",
              "       [ 1.31237917e+01, -4.02696180e+00],\n",
              "       [ 6.04038417e-01,  5.70841491e-01],\n",
              "       [ 1.58677273e+01, -4.04658985e+00],\n",
              "       [ 7.94856906e-01,  3.32401419e+00],\n",
              "       [ 1.17260828e+01, -7.62921047e+00],\n",
              "       [-2.16960979e+00,  6.45432425e+00],\n",
              "       [-6.97310209e+00, -2.77613235e+00],\n",
              "       [ 8.78771424e-01, -6.89954472e+00],\n",
              "       [-2.07927465e+00,  7.52244282e+00],\n",
              "       [ 9.89705503e-01,  4.92581749e+00],\n",
              "       [-5.72024059e+00,  2.38971472e+00],\n",
              "       [-3.58085203e+00,  3.18883467e+00],\n",
              "       [-1.00732183e+00, -6.72512341e+00],\n",
              "       [-1.19645863e+01,  9.78766441e+00],\n",
              "       [ 1.11982355e+01, -1.22572622e+01],\n",
              "       [ 1.52960243e+01, -2.70037150e+00],\n",
              "       [-8.12731981e-01, -5.55565548e+00],\n",
              "       [-2.27299511e-01, -7.12879038e+00],\n",
              "       [-2.32809734e+00, -4.42770290e+00],\n",
              "       [ 1.10429850e+01, -1.04469795e+01],\n",
              "       [-1.49618137e+00,  4.73638058e+00],\n",
              "       [-2.30030012e+00, -2.03278732e+00],\n",
              "       [-5.28327560e+00,  3.35656703e-01],\n",
              "       [-1.08338041e+01,  7.87936401e+00],\n",
              "       [ 1.24752340e+01, -9.37420082e+00],\n",
              "       [ 1.42230787e+01, -4.32667732e+00],\n",
              "       [ 8.04887474e-01,  4.43852425e+00],\n",
              "       [ 1.84827670e-01, -1.81456700e-01],\n",
              "       [ 1.60222864e+00, -2.72664595e+00],\n",
              "       [-2.28236198e+00,  8.21363640e+00],\n",
              "       [-2.10818887e+00, -4.65908337e+00],\n",
              "       [ 1.53086686e+00, -1.07665813e+00],\n",
              "       [-2.87971711e+00, -3.36058497e+00],\n",
              "       [-3.35266352e+00,  7.50888872e+00],\n",
              "       [-7.40958643e+00,  1.87277770e+00],\n",
              "       [ 1.21317148e+00, -5.84540486e-01],\n",
              "       [-1.85929251e+00,  2.93406153e+00],\n",
              "       [ 1.50836153e+01, -1.42771769e+01],\n",
              "       [-3.11789775e+00, -3.47939062e+00],\n",
              "       [-1.31803632e+00,  9.58067036e+00],\n",
              "       [-5.59154081e+00, -2.68632412e+00],\n",
              "       [ 1.53091593e+01, -4.29669142e+00],\n",
              "       [ 1.58930054e+01, -6.76343298e+00],\n",
              "       [-5.29773426e+00,  9.80921555e+00],\n",
              "       [-9.00762177e+00,  1.11320992e+01],\n",
              "       [-6.40192080e+00,  8.23015022e+00],\n",
              "       [-3.78541803e+00, -6.71573162e-01],\n",
              "       [-9.57147217e+00,  6.24253941e+00],\n",
              "       [-9.83478451e+00,  1.12085733e+01],\n",
              "       [-2.70567322e+00,  5.77801526e-01],\n",
              "       [-8.23293304e+00,  8.28530121e+00],\n",
              "       [-9.47426128e+00,  1.10084748e+00],\n",
              "       [ 8.38921607e-01, -5.53453064e+00],\n",
              "       [-2.44773293e+00,  4.26139951e-01],\n",
              "       [-1.02158871e+01,  1.08938751e+01],\n",
              "       [-8.32410049e+00, -2.38732290e+00],\n",
              "       [-8.39043808e+00,  6.87390232e+00],\n",
              "       [ 1.15251751e+01, -7.08569193e+00],\n",
              "       [-9.55550957e+00,  1.21778698e+01],\n",
              "       [ 1.53975952e+00, -5.06188869e+00],\n",
              "       [-4.23419285e+00,  6.00208616e+00],\n",
              "       [-1.03168430e+01,  1.24639282e+01],\n",
              "       [ 1.31643820e+01, -3.27363491e+00],\n",
              "       [-1.92403829e+00, -5.47911119e+00],\n",
              "       [ 1.05151081e+01, -1.26123734e+01],\n",
              "       [ 8.22738945e-01, -3.77646804e+00],\n",
              "       [-6.08311510e+00,  7.98458385e+00],\n",
              "       [-3.42465949e+00, -4.29779196e+00],\n",
              "       [ 3.39283609e+00, -1.58464104e-01],\n",
              "       [-9.66306305e+00,  5.77857256e+00],\n",
              "       [ 1.60452843e+01, -5.21449471e+00],\n",
              "       [ 1.43881655e+01, -3.45410585e+00],\n",
              "       [-6.90636301e+00, -6.52227104e-01],\n",
              "       [-5.84572458e+00,  3.84952450e+00],\n",
              "       [ 1.14795904e+01, -7.94406319e+00],\n",
              "       [ 1.29945202e+01, -6.49222374e+00],\n",
              "       [ 1.39829912e+01, -6.15101957e+00],\n",
              "       [-7.88355732e+00,  1.29986420e+01],\n",
              "       [-4.64472103e+00,  2.39010859e+00],\n",
              "       [-2.97560740e+00,  1.72320831e+00],\n",
              "       [-3.90188599e+00,  3.37519646e+00],\n",
              "       [-9.35127199e-01, -5.03983068e+00],\n",
              "       [-3.06355500e+00, -5.32570553e+00],\n",
              "       [-3.31926990e+00, -1.51731634e+00],\n",
              "       [ 3.24386263e+00,  1.12204814e+00],\n",
              "       [-1.59439966e-02, -4.81696701e+00],\n",
              "       [-6.85159683e+00,  4.29437160e+00],\n",
              "       [ 1.28999054e+00, -1.79064858e+00],\n",
              "       [-4.32166338e-01,  2.16517091e+00],\n",
              "       [-4.13657713e+00, -3.06200171e+00],\n",
              "       [ 1.12078581e+01, -1.13366337e+01],\n",
              "       [ 1.59121668e+00,  2.78223944e+00],\n",
              "       [-9.09848499e+00,  5.36357069e+00],\n",
              "       [ 1.51430454e+01, -1.43603849e+01],\n",
              "       [-7.80293608e+00, -2.96592355e+00],\n",
              "       [ 2.09718561e+00, -3.53206372e+00],\n",
              "       [ 1.30578905e-01, -6.50745773e+00],\n",
              "       [-9.70615101e+00,  4.47369862e+00],\n",
              "       [-2.48665690e+00, -7.46924686e+00],\n",
              "       [-1.66986895e+00,  7.41207552e+00],\n",
              "       [ 1.11906004e+01, -1.05198784e+01],\n",
              "       [-5.55214500e+00, -3.55491281e+00],\n",
              "       [-4.37592596e-01, -4.30315876e+00],\n",
              "       [ 1.48179760e+01, -9.59630489e+00],\n",
              "       [ 1.49559002e+01, -7.94717789e+00],\n",
              "       [ 1.50591116e+01, -5.40918922e+00],\n",
              "       [ 1.26016760e+01, -3.67001343e+00],\n",
              "       [-3.05139875e+00, -2.39428822e-02],\n",
              "       [-2.24066091e+00,  7.84264898e+00],\n",
              "       [ 1.17590361e+01, -6.18096304e+00],\n",
              "       [ 1.12237053e+01, -1.16985559e+01],\n",
              "       [-1.57846868e+00,  6.77934456e+00],\n",
              "       [ 1.30974360e+01, -6.40640974e+00],\n",
              "       [ 3.21331692e+00,  1.65987027e+00],\n",
              "       [-2.88659286e+00,  4.33763266e+00],\n",
              "       [-1.02374363e+00,  1.93477190e+00],\n",
              "       [-8.02291989e-01,  3.16751647e+00],\n",
              "       [-1.16137838e+01,  3.68468666e+00],\n",
              "       [-2.70460987e+00, -7.41784191e+00],\n",
              "       [ 1.04552603e+01, -8.78893661e+00],\n",
              "       [-4.54627180e+00,  2.03811288e+00],\n",
              "       [-4.19918919e+00,  8.22394276e+00],\n",
              "       [ 2.54406190e+00, -3.30949187e+00],\n",
              "       [ 2.24209905e+00,  3.23550248e+00],\n",
              "       [ 1.13641107e+00,  3.32249475e+00],\n",
              "       [ 1.15843983e+01, -7.84156084e+00],\n",
              "       [ 1.40007057e+01, -8.82054424e+00],\n",
              "       [ 9.88331258e-01, -4.56987715e+00],\n",
              "       [-7.09899950e+00,  9.56274211e-01],\n",
              "       [-7.00953293e+00,  5.56731653e+00],\n",
              "       [ 1.39999084e+01, -7.24804544e+00],\n",
              "       [-1.10347729e+01,  9.27250862e+00],\n",
              "       [-6.25834322e+00, -3.86572218e+00],\n",
              "       [-1.21351981e+00,  4.75979757e+00],\n",
              "       [-9.22896004e+00,  2.40882468e+00],\n",
              "       [-9.23988438e+00,  1.67493016e-01],\n",
              "       [ 1.11480694e+01, -7.51714897e+00],\n",
              "       [-8.14224815e+00,  9.42873669e+00],\n",
              "       [-4.33399773e+00,  2.81993937e+00],\n",
              "       [ 1.54633274e+01, -1.40835342e+01],\n",
              "       [-1.58340013e+00, -7.11026573e+00],\n",
              "       [-9.08719540e+00,  1.22791970e+00],\n",
              "       [-8.57845974e+00,  3.42253613e+00],\n",
              "       [ 1.34202089e+01, -8.40985775e+00],\n",
              "       [-9.15408707e+00,  1.07190056e+01],\n",
              "       [-7.21624994e+00,  7.98091125e+00],\n",
              "       [ 1.48191404e+01, -7.70276546e+00],\n",
              "       [ 1.29077215e+01, -1.14721699e+01],\n",
              "       [-1.03029423e+01,  1.02913399e+01],\n",
              "       [ 1.56664619e+01, -8.18454552e+00],\n",
              "       [ 1.20989475e+01, -4.45283461e+00],\n",
              "       [-8.82220745e-01,  3.20324469e+00],\n",
              "       [ 1.56126814e+01, -1.41185379e+01],\n",
              "       [ 1.04197397e+01, -9.14560604e+00],\n",
              "       [-1.52129507e+00, -5.19473124e+00],\n",
              "       [-7.50394940e-01, -7.37676859e+00],\n",
              "       [-7.03040314e+00, -3.44914603e+00],\n",
              "       [-9.30507088e+00,  1.21405077e+01],\n",
              "       [-4.30558538e+00,  1.17560358e+01],\n",
              "       [-1.23897476e+01,  5.46668911e+00],\n",
              "       [ 1.18105345e+01, -1.06215076e+01],\n",
              "       [-3.34027505e+00,  1.18904993e-01],\n",
              "       [-6.12773323e+00, -1.86132348e+00],\n",
              "       [ 1.53498344e+01, -1.43606339e+01],\n",
              "       [ 1.58623772e+01, -6.58589029e+00],\n",
              "       [ 1.37315903e+01, -4.80551052e+00],\n",
              "       [ 1.52968159e+01, -5.23616600e+00],\n",
              "       [-8.58802891e+00,  1.22713223e+01]], dtype=float32)"
            ]
          },
          "execution_count": 75,
          "metadata": {},
          "output_type": "execute_result"
        }
      ]
    },
    {
      "cell_type": "code",
      "metadata": {
        "id": "_YD39FHklV2D"
      },
      "source": [
        "final_dataset['tsne-2d-one'] = tsne_result[:,0]\n",
        "final_dataset['tsne-2d-two'] = tsne_result[:,1]"
      ],
      "execution_count": null,
      "outputs": []
    },
    {
      "cell_type": "code",
      "metadata": {
        "id": "21UB5aPslV2E"
      },
      "source": [
        "tsne_cluster = final_dataset.groupby('cluster').agg({'tsne-2d-one':'mean','tsne-2d-two':'mean'}).reset_index()"
      ],
      "execution_count": null,
      "outputs": []
    },
    {
      "cell_type": "code",
      "metadata": {
        "id": "y5mcLPRmlV2E",
        "outputId": "58fd8fb8-b8ab-421f-b54e-7f30503a66b8"
      },
      "source": [
        "plt.figure(figsize=(16,10))\n",
        "\n",
        "sns.scatterplot(\n",
        "    x=\"tsne-2d-one\", y=\"tsne-2d-two\",\n",
        "    hue=\"cluster\",\n",
        "    palette=sns.color_palette(\"hls\", 6),\n",
        "    data=final_dataset,\n",
        "    legend=\"full\",\n",
        "    alpha=1\n",
        ")\n",
        "\n",
        "plt.scatter(x=\"tsne-2d-one\", y=\"tsne-2d-two\", data=tsne_cluster, s=100, c='b')\n",
        "\n",
        "plt.show()"
      ],
      "execution_count": null,
      "outputs": [
        {
          "data": {
            "image/png": "[encoded data removed]",
            "text/plain": [
              "<Figure size 1152x720 with 1 Axes>"
            ]
          },
          "metadata": {
            "needs_background": "light"
          },
          "output_type": "display_data"
        }
      ]
    },
    {
      "cell_type": "code",
      "metadata": {
        "id": "tKdDfb2LlV2F"
      },
      "source": [
        "centers = kmeans_cluster_model.cluster_centers_"
      ],
      "execution_count": null,
      "outputs": []
    },
    {
      "cell_type": "code",
      "metadata": {
        "id": "J7AlNJvOlV2F"
      },
      "source": [
        "pts = np.asarray(new_data)"
      ],
      "execution_count": null,
      "outputs": []
    },
    {
      "cell_type": "code",
      "metadata": {
        "id": "tSxyiFrVlV2G",
        "outputId": "4d39a129-18a8-40c0-b799-175269ed0207"
      },
      "source": [
        "pts"
      ],
      "execution_count": null,
      "outputs": [
        {
          "data": {
            "text/plain": [
              "array([[0.03813281, 0.05263158, 0.51209855, 0.88495446, 0.71662125],\n",
              "       [0.50295858, 0.49707602, 0.51626613, 0.23136629, 0.23433243],\n",
              "       [0.0443787 , 0.05263158, 0.49222476, 0.86347879, 0.30517711],\n",
              "       ...,\n",
              "       [0.51742275, 0.47368421, 0.57788924, 0.22188316, 0.16348774],\n",
              "       [0.50558843, 0.49122807, 0.57870081, 0.2304837 , 0.24250681],\n",
              "       [0.03057199, 0.01754386, 0.14970523, 0.90324786, 0.45776567]])"
            ]
          },
          "execution_count": 81,
          "metadata": {},
          "output_type": "execute_result"
        }
      ]
    },
    {
      "cell_type": "code",
      "metadata": {
        "id": "5SXieRKZlV2H"
      },
      "source": [
        "total_dist = pd.Series()"
      ],
      "execution_count": null,
      "outputs": []
    },
    {
      "cell_type": "code",
      "metadata": {
        "id": "KCln5uaNlV2H"
      },
      "source": [
        "def get_sum_square_distance(data, kmeans_cluster_model):\n",
        "    centers = kmeans_cluster_model.cluster_centers_\n",
        "    pts = np.asarray(data[requi_feature_cols])\n",
        "    total_dist = pd.Series()\n",
        "    for i in range(len(pts)):\n",
        "        dist = 0\n",
        "        for j in range(len(centers)):\n",
        "            a = np.linalg.norm(pts[i] - centers[j])\n",
        "            dist += a**2\n",
        "        total_dist.set_value(i, dist)\n",
        "    \n",
        "    return total_dist "
      ],
      "execution_count": null,
      "outputs": []
    },
    {
      "cell_type": "code",
      "metadata": {
        "id": "Ur5Qg1rIlV2I"
      },
      "source": [
        "final_dataset['sum_squa_dist'] = get_sum_square_distance(new_data, kmeans_cluster_model)"
      ],
      "execution_count": null,
      "outputs": []
    },
    {
      "cell_type": "code",
      "metadata": {
        "id": "wwRMc8NplV2I"
      },
      "source": [
        "plt.hist(final_dataset['sum_squa_dist'], bins=100)"
      ],
      "execution_count": null,
      "outputs": []
    },
    {
      "cell_type": "code",
      "metadata": {
        "id": "HrOhuFtRlV2J"
      },
      "source": [
        "cutoff = 6"
      ],
      "execution_count": null,
      "outputs": []
    },
    {
      "cell_type": "code",
      "metadata": {
        "id": "gFKrdMwylV2J"
      },
      "source": [
        "final_dataset['anomaly_kmeans'] = (final_dataset['sum_squa_dist'] >= cutoff).astype(int)"
      ],
      "execution_count": null,
      "outputs": []
    },
    {
      "cell_type": "code",
      "metadata": {
        "id": "sWrPgDc3lV2K"
      },
      "source": [
        "sns.scatterplot(\n",
        "    x=\"tsne-2d-one\", y=\"tsne-2d-two\",\n",
        "    hue=\"anomaly_kmeans\",\n",
        "    data=final_dataset,\n",
        "    legend=\"full\",\n",
        "    alpha=1\n",
        ")"
      ],
      "execution_count": null,
      "outputs": []
    },
    {
      "cell_type": "code",
      "metadata": {
        "id": "qtloQTnHlV2L"
      },
      "source": [
        "final_dataset.loc[final_dataset['anomaly_kmeans']==1]"
      ],
      "execution_count": null,
      "outputs": []
    },
    {
      "cell_type": "markdown",
      "metadata": {
        "id": "8f1HeYDSlV2L"
      },
      "source": [
        "# Isolated Forest"
      ]
    },
    {
      "cell_type": "code",
      "metadata": {
        "id": "JwWadVMQlV2M"
      },
      "source": [
        "from sklearn.ensemble import IsolationForest"
      ],
      "execution_count": null,
      "outputs": []
    },
    {
      "cell_type": "code",
      "metadata": {
        "id": "O1_Z4J-ElV2M"
      },
      "source": [
        "outlier_frac = 0.028"
      ],
      "execution_count": null,
      "outputs": []
    },
    {
      "cell_type": "code",
      "metadata": {
        "id": "-OS2FFwTlV2N",
        "outputId": "aec6cced-3082-47e0-96a4-d839061fad76"
      },
      "source": [
        "final_dataset.columns"
      ],
      "execution_count": null,
      "outputs": [
        {
          "data": {
            "text/plain": [
              "Index(['ip_address', 'total_count', 'daily_counts', 'is_weekend_ratio',\n",
              "       'td_mean', 'td_max', 'cluster', 'tsne-2d-one', 'tsne-2d-two'],\n",
              "      dtype='object')"
            ]
          },
          "execution_count": 87,
          "metadata": {},
          "output_type": "execute_result"
        }
      ]
    },
    {
      "cell_type": "code",
      "metadata": {
        "id": "kf_Iuvv6lV2N",
        "outputId": "7f7c4b85-485a-4e2f-ffd9-6204147bf931"
      },
      "source": [
        "new_data.head()"
      ],
      "execution_count": null,
      "outputs": [
        {
          "data": {
            "text/html": [
              "<div>\n",
              "<style scoped>\n",
              "    .dataframe tbody tr th:only-of-type {\n",
              "        vertical-align: middle;\n",
              "    }\n",
              "\n",
              "    .dataframe tbody tr th {\n",
              "        vertical-align: top;\n",
              "    }\n",
              "\n",
              "    .dataframe thead th {\n",
              "        text-align: right;\n",
              "    }\n",
              "</style>\n",
              "<table border=\"1\" class=\"dataframe\">\n",
              "  <thead>\n",
              "    <tr style=\"text-align: right;\">\n",
              "      <th></th>\n",
              "      <th>total_count</th>\n",
              "      <th>daily_counts</th>\n",
              "      <th>is_weekend_ratio</th>\n",
              "      <th>td_mean</th>\n",
              "      <th>td_max</th>\n",
              "    </tr>\n",
              "  </thead>\n",
              "  <tbody>\n",
              "    <tr>\n",
              "      <th>0</th>\n",
              "      <td>0.038133</td>\n",
              "      <td>0.052632</td>\n",
              "      <td>0.512099</td>\n",
              "      <td>0.884954</td>\n",
              "      <td>0.716621</td>\n",
              "    </tr>\n",
              "    <tr>\n",
              "      <th>1</th>\n",
              "      <td>0.502959</td>\n",
              "      <td>0.497076</td>\n",
              "      <td>0.516266</td>\n",
              "      <td>0.231366</td>\n",
              "      <td>0.234332</td>\n",
              "    </tr>\n",
              "    <tr>\n",
              "      <th>2</th>\n",
              "      <td>0.044379</td>\n",
              "      <td>0.052632</td>\n",
              "      <td>0.492225</td>\n",
              "      <td>0.863479</td>\n",
              "      <td>0.305177</td>\n",
              "    </tr>\n",
              "    <tr>\n",
              "      <th>3</th>\n",
              "      <td>0.025641</td>\n",
              "      <td>0.000000</td>\n",
              "      <td>0.205662</td>\n",
              "      <td>0.919573</td>\n",
              "      <td>0.599455</td>\n",
              "    </tr>\n",
              "    <tr>\n",
              "      <th>4</th>\n",
              "      <td>0.042406</td>\n",
              "      <td>0.081871</td>\n",
              "      <td>0.342074</td>\n",
              "      <td>0.872065</td>\n",
              "      <td>0.487738</td>\n",
              "    </tr>\n",
              "  </tbody>\n",
              "</table>\n",
              "</div>"
            ],
            "text/plain": [
              "   total_count  daily_counts  is_weekend_ratio   td_mean    td_max\n",
              "0     0.038133      0.052632          0.512099  0.884954  0.716621\n",
              "1     0.502959      0.497076          0.516266  0.231366  0.234332\n",
              "2     0.044379      0.052632          0.492225  0.863479  0.305177\n",
              "3     0.025641      0.000000          0.205662  0.919573  0.599455\n",
              "4     0.042406      0.081871          0.342074  0.872065  0.487738"
            ]
          },
          "execution_count": 88,
          "metadata": {},
          "output_type": "execute_result"
        }
      ]
    },
    {
      "cell_type": "code",
      "metadata": {
        "id": "DriEFmtvlV2O"
      },
      "source": [
        "iso_model =  IsolationForest(n_jobs=-1, n_estimators=200, max_features=3, random_state=RANDOM_STATE, contamination=outlier_frac)"
      ],
      "execution_count": null,
      "outputs": []
    },
    {
      "cell_type": "code",
      "metadata": {
        "id": "igNziIz-lV2O",
        "outputId": "191bdc2c-8f41-4581-fb24-9313228e1784"
      },
      "source": [
        "iso_model.fit(new_data)"
      ],
      "execution_count": null,
      "outputs": [
        {
          "data": {
            "text/plain": [
              "IsolationForest(contamination=0.028, max_features=3, n_estimators=200,\n",
              "                n_jobs=-1, random_state=30)"
            ]
          },
          "execution_count": 90,
          "metadata": {},
          "output_type": "execute_result"
        }
      ]
    },
    {
      "cell_type": "code",
      "metadata": {
        "id": "XZjh1aH9lV2P"
      },
      "source": [
        "final_dataset['anomaly_isolated'] = pd.Series(iso_model.predict(new_data))"
      ],
      "execution_count": null,
      "outputs": []
    },
    {
      "cell_type": "code",
      "metadata": {
        "id": "5EJRaC3PlV2Q"
      },
      "source": [
        "final_dataset['anomaly_isolated'] = final_dataset['anomaly_isolated'].map( {1: 0, -1: 1} )"
      ],
      "execution_count": null,
      "outputs": []
    },
    {
      "cell_type": "code",
      "metadata": {
        "id": "IGXcOrQ3lV2Q",
        "outputId": "14d35ceb-152d-45f8-ab1c-2f32e2129960"
      },
      "source": [
        "final_dataset['anomaly_isolated'].value_counts()"
      ],
      "execution_count": null,
      "outputs": [
        {
          "data": {
            "text/plain": [
              "0    375\n",
              "1     11\n",
              "Name: anomaly_isolated, dtype: int64"
            ]
          },
          "execution_count": 93,
          "metadata": {},
          "output_type": "execute_result"
        }
      ]
    },
    {
      "cell_type": "code",
      "metadata": {
        "id": "LGH-15OslV2R",
        "outputId": "84978f75-047e-4f31-ccd5-7ef203a8c608"
      },
      "source": [
        "sns.scatterplot(\n",
        "    x=\"tsne-2d-one\", y=\"tsne-2d-two\",\n",
        "    hue=\"anomaly_isolated\",\n",
        "    data=final_dataset,\n",
        "    legend=\"full\",\n",
        "    alpha=1\n",
        ")"
      ],
      "execution_count": null,
      "outputs": [
        {
          "data": {
            "text/plain": [
              "<AxesSubplot:xlabel='tsne-2d-one', ylabel='tsne-2d-two'>"
            ]
          },
          "execution_count": 94,
          "metadata": {},
          "output_type": "execute_result"
        },
        {
          "data": {
            "image/png": "[encoded data removed]",
            "text/plain": [
              "<Figure size 432x288 with 1 Axes>"
            ]
          },
          "metadata": {
            "needs_background": "light"
          },
          "output_type": "display_data"
        }
      ]
    },
    {
      "cell_type": "code",
      "metadata": {
        "id": "JOnKumuelV2R",
        "outputId": "33e2344c-12af-45a1-9721-f20a79efbd45"
      },
      "source": [
        "final_dataset.loc[final_dataset['anomaly_isolated']==1]"
      ],
      "execution_count": null,
      "outputs": [
        {
          "data": {
            "text/html": [
              "<div>\n",
              "<style scoped>\n",
              "    .dataframe tbody tr th:only-of-type {\n",
              "        vertical-align: middle;\n",
              "    }\n",
              "\n",
              "    .dataframe tbody tr th {\n",
              "        vertical-align: top;\n",
              "    }\n",
              "\n",
              "    .dataframe thead th {\n",
              "        text-align: right;\n",
              "    }\n",
              "</style>\n",
              "<table border=\"1\" class=\"dataframe\">\n",
              "  <thead>\n",
              "    <tr style=\"text-align: right;\">\n",
              "      <th></th>\n",
              "      <th>ip_address</th>\n",
              "      <th>total_count</th>\n",
              "      <th>daily_counts</th>\n",
              "      <th>is_weekend_ratio</th>\n",
              "      <th>td_mean</th>\n",
              "      <th>td_max</th>\n",
              "      <th>cluster</th>\n",
              "      <th>tsne-2d-one</th>\n",
              "      <th>tsne-2d-two</th>\n",
              "      <th>anomaly_isolated</th>\n",
              "    </tr>\n",
              "  </thead>\n",
              "  <tbody>\n",
              "    <tr>\n",
              "      <th>62</th>\n",
              "      <td>10.1.1.249</td>\n",
              "      <td>4301</td>\n",
              "      <td>116.5</td>\n",
              "      <td>6.004886</td>\n",
              "      <td>9.459535</td>\n",
              "      <td>101.0</td>\n",
              "      <td>4</td>\n",
              "      <td>15.251837</td>\n",
              "      <td>-14.266325</td>\n",
              "      <td>1</td>\n",
              "    </tr>\n",
              "    <tr>\n",
              "      <th>118</th>\n",
              "      <td>10.1.1.386</td>\n",
              "      <td>4300</td>\n",
              "      <td>118.5</td>\n",
              "      <td>6.388316</td>\n",
              "      <td>9.453361</td>\n",
              "      <td>104.0</td>\n",
              "      <td>4</td>\n",
              "      <td>15.563724</td>\n",
              "      <td>-14.071769</td>\n",
              "      <td>1</td>\n",
              "    </tr>\n",
              "    <tr>\n",
              "      <th>163</th>\n",
              "      <td>10.1.1.483</td>\n",
              "      <td>1330</td>\n",
              "      <td>39.0</td>\n",
              "      <td>7.364780</td>\n",
              "      <td>31.564334</td>\n",
              "      <td>316.0</td>\n",
              "      <td>3</td>\n",
              "      <td>2.144543</td>\n",
              "      <td>-5.802428</td>\n",
              "      <td>1</td>\n",
              "    </tr>\n",
              "    <tr>\n",
              "      <th>164</th>\n",
              "      <td>10.1.1.486</td>\n",
              "      <td>4317</td>\n",
              "      <td>117.0</td>\n",
              "      <td>5.611026</td>\n",
              "      <td>9.417285</td>\n",
              "      <td>108.0</td>\n",
              "      <td>4</td>\n",
              "      <td>14.919126</td>\n",
              "      <td>-14.328329</td>\n",
              "      <td>1</td>\n",
              "    </tr>\n",
              "    <tr>\n",
              "      <th>177</th>\n",
              "      <td>10.1.1.63</td>\n",
              "      <td>4339</td>\n",
              "      <td>112.0</td>\n",
              "      <td>6.136513</td>\n",
              "      <td>9.368142</td>\n",
              "      <td>101.0</td>\n",
              "      <td>4</td>\n",
              "      <td>15.361731</td>\n",
              "      <td>-14.173064</td>\n",
              "      <td>1</td>\n",
              "    </tr>\n",
              "    <tr>\n",
              "      <th>188</th>\n",
              "      <td>10.1.1.86</td>\n",
              "      <td>4293</td>\n",
              "      <td>113.0</td>\n",
              "      <td>6.276271</td>\n",
              "      <td>9.456897</td>\n",
              "      <td>110.0</td>\n",
              "      <td>4</td>\n",
              "      <td>15.410590</td>\n",
              "      <td>-14.102712</td>\n",
              "      <td>1</td>\n",
              "    </tr>\n",
              "    <tr>\n",
              "      <th>255</th>\n",
              "      <td>10.1.2.249</td>\n",
              "      <td>4353</td>\n",
              "      <td>112.0</td>\n",
              "      <td>5.876777</td>\n",
              "      <td>9.332721</td>\n",
              "      <td>102.0</td>\n",
              "      <td>4</td>\n",
              "      <td>15.083615</td>\n",
              "      <td>-14.277177</td>\n",
              "      <td>1</td>\n",
              "    </tr>\n",
              "    <tr>\n",
              "      <th>311</th>\n",
              "      <td>10.1.2.386</td>\n",
              "      <td>4326</td>\n",
              "      <td>108.0</td>\n",
              "      <td>5.910543</td>\n",
              "      <td>9.392370</td>\n",
              "      <td>110.0</td>\n",
              "      <td>4</td>\n",
              "      <td>15.143045</td>\n",
              "      <td>-14.360385</td>\n",
              "      <td>1</td>\n",
              "    </tr>\n",
              "    <tr>\n",
              "      <th>357</th>\n",
              "      <td>10.1.2.486</td>\n",
              "      <td>4251</td>\n",
              "      <td>114.0</td>\n",
              "      <td>6.316695</td>\n",
              "      <td>9.571059</td>\n",
              "      <td>99.0</td>\n",
              "      <td>4</td>\n",
              "      <td>15.463327</td>\n",
              "      <td>-14.083534</td>\n",
              "      <td>1</td>\n",
              "    </tr>\n",
              "    <tr>\n",
              "      <th>370</th>\n",
              "      <td>10.1.2.63</td>\n",
              "      <td>4372</td>\n",
              "      <td>121.0</td>\n",
              "      <td>6.435374</td>\n",
              "      <td>9.268588</td>\n",
              "      <td>118.0</td>\n",
              "      <td>4</td>\n",
              "      <td>15.612681</td>\n",
              "      <td>-14.118538</td>\n",
              "      <td>1</td>\n",
              "    </tr>\n",
              "    <tr>\n",
              "      <th>381</th>\n",
              "      <td>10.1.2.86</td>\n",
              "      <td>4307</td>\n",
              "      <td>111.0</td>\n",
              "      <td>6.083882</td>\n",
              "      <td>9.441013</td>\n",
              "      <td>122.0</td>\n",
              "      <td>4</td>\n",
              "      <td>15.349834</td>\n",
              "      <td>-14.360634</td>\n",
              "      <td>1</td>\n",
              "    </tr>\n",
              "  </tbody>\n",
              "</table>\n",
              "</div>"
            ],
            "text/plain": [
              "     ip_address  total_count  daily_counts  is_weekend_ratio    td_mean  \\\n",
              "62   10.1.1.249         4301         116.5          6.004886   9.459535   \n",
              "118  10.1.1.386         4300         118.5          6.388316   9.453361   \n",
              "163  10.1.1.483         1330          39.0          7.364780  31.564334   \n",
              "164  10.1.1.486         4317         117.0          5.611026   9.417285   \n",
              "177   10.1.1.63         4339         112.0          6.136513   9.368142   \n",
              "188   10.1.1.86         4293         113.0          6.276271   9.456897   \n",
              "255  10.1.2.249         4353         112.0          5.876777   9.332721   \n",
              "311  10.1.2.386         4326         108.0          5.910543   9.392370   \n",
              "357  10.1.2.486         4251         114.0          6.316695   9.571059   \n",
              "370   10.1.2.63         4372         121.0          6.435374   9.268588   \n",
              "381   10.1.2.86         4307         111.0          6.083882   9.441013   \n",
              "\n",
              "     td_max  cluster  tsne-2d-one  tsne-2d-two  anomaly_isolated  \n",
              "62    101.0        4    15.251837   -14.266325                 1  \n",
              "118   104.0        4    15.563724   -14.071769                 1  \n",
              "163   316.0        3     2.144543    -5.802428                 1  \n",
              "164   108.0        4    14.919126   -14.328329                 1  \n",
              "177   101.0        4    15.361731   -14.173064                 1  \n",
              "188   110.0        4    15.410590   -14.102712                 1  \n",
              "255   102.0        4    15.083615   -14.277177                 1  \n",
              "311   110.0        4    15.143045   -14.360385                 1  \n",
              "357    99.0        4    15.463327   -14.083534                 1  \n",
              "370   118.0        4    15.612681   -14.118538                 1  \n",
              "381   122.0        4    15.349834   -14.360634                 1  "
            ]
          },
          "execution_count": 95,
          "metadata": {},
          "output_type": "execute_result"
        }
      ]
    },
    {
      "cell_type": "markdown",
      "metadata": {
        "id": "0JyuHBgllV2S"
      },
      "source": [
        "# One Class SVM"
      ]
    },
    {
      "cell_type": "code",
      "metadata": {
        "id": "6BOv58TZlV2T"
      },
      "source": [
        "from sklearn.svm import OneClassSVM"
      ],
      "execution_count": null,
      "outputs": []
    },
    {
      "cell_type": "code",
      "metadata": {
        "id": "c8NcvmLMlV2T"
      },
      "source": [
        "svm_model =  OneClassSVM(nu=outlier_frac, degree=2, kernel='rbf')"
      ],
      "execution_count": null,
      "outputs": []
    },
    {
      "cell_type": "code",
      "metadata": {
        "id": "rCm5ZLhalV2U"
      },
      "source": [
        "new_data_clean = new_data.loc[new_data.total_count <=new_data.total_count.quantile(1-outlier_frac)]"
      ],
      "execution_count": null,
      "outputs": []
    },
    {
      "cell_type": "code",
      "metadata": {
        "id": "klUHsYx5lV2U",
        "outputId": "b2b88a1c-b9b4-4670-bcdf-d039abaed6fc"
      },
      "source": [
        "svm_model.fit(new_data_clean)"
      ],
      "execution_count": null,
      "outputs": [
        {
          "data": {
            "text/plain": [
              "OneClassSVM(degree=2, nu=0.028)"
            ]
          },
          "execution_count": 99,
          "metadata": {},
          "output_type": "execute_result"
        }
      ]
    },
    {
      "cell_type": "code",
      "metadata": {
        "id": "gfdDEFG3lV2V"
      },
      "source": [
        "final_dataset['anomaly_svm'] = pd.Series(svm_model.predict(new_data))"
      ],
      "execution_count": null,
      "outputs": []
    },
    {
      "cell_type": "code",
      "metadata": {
        "id": "5y7Dc1fylV2V"
      },
      "source": [
        "final_dataset['anomaly_svm'] = final_dataset['anomaly_svm'].map( {1: 0, -1: 1} )"
      ],
      "execution_count": null,
      "outputs": []
    },
    {
      "cell_type": "code",
      "metadata": {
        "id": "pTTAaV50lV2W",
        "outputId": "64f0ca57-6884-4cfb-88e6-c1db0c3bd7bc"
      },
      "source": [
        "final_dataset['anomaly_svm'].value_counts()"
      ],
      "execution_count": null,
      "outputs": [
        {
          "data": {
            "text/plain": [
              "0    367\n",
              "1     19\n",
              "Name: anomaly_svm, dtype: int64"
            ]
          },
          "execution_count": 102,
          "metadata": {},
          "output_type": "execute_result"
        }
      ]
    },
    {
      "cell_type": "code",
      "metadata": {
        "id": "NN_k6XGPlV2X",
        "outputId": "059f063d-283c-42b1-9160-0f4d5c5f7edd"
      },
      "source": [
        "sns.scatterplot(\n",
        "    x=\"tsne-2d-one\", y=\"tsne-2d-two\",\n",
        "    hue=\"anomaly_svm\",\n",
        "    data=final_dataset,\n",
        "    legend=\"full\",\n",
        "    alpha=1\n",
        ")"
      ],
      "execution_count": null,
      "outputs": [
        {
          "data": {
            "text/plain": [
              "<AxesSubplot:xlabel='tsne-2d-one', ylabel='tsne-2d-two'>"
            ]
          },
          "execution_count": 103,
          "metadata": {},
          "output_type": "execute_result"
        },
        {
          "data": {
            "image/png": "[encoded data removed]",
            "text/plain": [
              "<Figure size 432x288 with 1 Axes>"
            ]
          },
          "metadata": {
            "needs_background": "light"
          },
          "output_type": "display_data"
        }
      ]
    },
    {
      "cell_type": "code",
      "metadata": {
        "id": "G1-wrK78lV2X",
        "outputId": "83650e5b-9e49-4a48-a2bc-2bfe2a58e0a8"
      },
      "source": [
        "final_dataset.loc[final_dataset['anomaly_svm']==1]"
      ],
      "execution_count": null,
      "outputs": [
        {
          "data": {
            "text/html": [
              "<div>\n",
              "<style scoped>\n",
              "    .dataframe tbody tr th:only-of-type {\n",
              "        vertical-align: middle;\n",
              "    }\n",
              "\n",
              "    .dataframe tbody tr th {\n",
              "        vertical-align: top;\n",
              "    }\n",
              "\n",
              "    .dataframe thead th {\n",
              "        text-align: right;\n",
              "    }\n",
              "</style>\n",
              "<table border=\"1\" class=\"dataframe\">\n",
              "  <thead>\n",
              "    <tr style=\"text-align: right;\">\n",
              "      <th></th>\n",
              "      <th>ip_address</th>\n",
              "      <th>total_count</th>\n",
              "      <th>daily_counts</th>\n",
              "      <th>is_weekend_ratio</th>\n",
              "      <th>td_mean</th>\n",
              "      <th>td_max</th>\n",
              "      <th>cluster</th>\n",
              "      <th>tsne-2d-one</th>\n",
              "      <th>tsne-2d-two</th>\n",
              "      <th>anomaly_isolated</th>\n",
              "      <th>anomaly_svm</th>\n",
              "    </tr>\n",
              "  </thead>\n",
              "  <tbody>\n",
              "    <tr>\n",
              "      <th>9</th>\n",
              "      <td>10.1.1.12</td>\n",
              "      <td>1392</td>\n",
              "      <td>40.0</td>\n",
              "      <td>4.974249</td>\n",
              "      <td>30.152408</td>\n",
              "      <td>250.0</td>\n",
              "      <td>0</td>\n",
              "      <td>-9.109499</td>\n",
              "      <td>13.379926</td>\n",
              "      <td>0</td>\n",
              "      <td>1</td>\n",
              "    </tr>\n",
              "    <tr>\n",
              "      <th>37</th>\n",
              "      <td>10.1.1.186</td>\n",
              "      <td>1372</td>\n",
              "      <td>37.0</td>\n",
              "      <td>4.965217</td>\n",
              "      <td>30.557987</td>\n",
              "      <td>308.0</td>\n",
              "      <td>0</td>\n",
              "      <td>-7.619674</td>\n",
              "      <td>13.520933</td>\n",
              "      <td>0</td>\n",
              "      <td>1</td>\n",
              "    </tr>\n",
              "    <tr>\n",
              "      <th>62</th>\n",
              "      <td>10.1.1.249</td>\n",
              "      <td>4301</td>\n",
              "      <td>116.5</td>\n",
              "      <td>6.004886</td>\n",
              "      <td>9.459535</td>\n",
              "      <td>101.0</td>\n",
              "      <td>4</td>\n",
              "      <td>15.251837</td>\n",
              "      <td>-14.266325</td>\n",
              "      <td>1</td>\n",
              "      <td>1</td>\n",
              "    </tr>\n",
              "    <tr>\n",
              "      <th>118</th>\n",
              "      <td>10.1.1.386</td>\n",
              "      <td>4300</td>\n",
              "      <td>118.5</td>\n",
              "      <td>6.388316</td>\n",
              "      <td>9.453361</td>\n",
              "      <td>104.0</td>\n",
              "      <td>4</td>\n",
              "      <td>15.563724</td>\n",
              "      <td>-14.071769</td>\n",
              "      <td>1</td>\n",
              "      <td>1</td>\n",
              "    </tr>\n",
              "    <tr>\n",
              "      <th>164</th>\n",
              "      <td>10.1.1.486</td>\n",
              "      <td>4317</td>\n",
              "      <td>117.0</td>\n",
              "      <td>5.611026</td>\n",
              "      <td>9.417285</td>\n",
              "      <td>108.0</td>\n",
              "      <td>4</td>\n",
              "      <td>14.919126</td>\n",
              "      <td>-14.328329</td>\n",
              "      <td>1</td>\n",
              "      <td>1</td>\n",
              "    </tr>\n",
              "    <tr>\n",
              "      <th>177</th>\n",
              "      <td>10.1.1.63</td>\n",
              "      <td>4339</td>\n",
              "      <td>112.0</td>\n",
              "      <td>6.136513</td>\n",
              "      <td>9.368142</td>\n",
              "      <td>101.0</td>\n",
              "      <td>4</td>\n",
              "      <td>15.361731</td>\n",
              "      <td>-14.173064</td>\n",
              "      <td>1</td>\n",
              "      <td>1</td>\n",
              "    </tr>\n",
              "    <tr>\n",
              "      <th>183</th>\n",
              "      <td>10.1.1.73</td>\n",
              "      <td>1484</td>\n",
              "      <td>40.5</td>\n",
              "      <td>5.480349</td>\n",
              "      <td>28.191504</td>\n",
              "      <td>195.0</td>\n",
              "      <td>0</td>\n",
              "      <td>-11.796299</td>\n",
              "      <td>9.849650</td>\n",
              "      <td>0</td>\n",
              "      <td>1</td>\n",
              "    </tr>\n",
              "    <tr>\n",
              "      <th>188</th>\n",
              "      <td>10.1.1.86</td>\n",
              "      <td>4293</td>\n",
              "      <td>113.0</td>\n",
              "      <td>6.276271</td>\n",
              "      <td>9.456897</td>\n",
              "      <td>110.0</td>\n",
              "      <td>4</td>\n",
              "      <td>15.410590</td>\n",
              "      <td>-14.102712</td>\n",
              "      <td>1</td>\n",
              "      <td>1</td>\n",
              "    </tr>\n",
              "    <tr>\n",
              "      <th>225</th>\n",
              "      <td>10.1.2.178</td>\n",
              "      <td>1400</td>\n",
              "      <td>39.0</td>\n",
              "      <td>7.284024</td>\n",
              "      <td>29.964975</td>\n",
              "      <td>258.0</td>\n",
              "      <td>3</td>\n",
              "      <td>0.878771</td>\n",
              "      <td>-6.899545</td>\n",
              "      <td>0</td>\n",
              "      <td>1</td>\n",
              "    </tr>\n",
              "    <tr>\n",
              "      <th>233</th>\n",
              "      <td>10.1.2.195</td>\n",
              "      <td>2859</td>\n",
              "      <td>76.5</td>\n",
              "      <td>6.919668</td>\n",
              "      <td>14.448915</td>\n",
              "      <td>206.0</td>\n",
              "      <td>2</td>\n",
              "      <td>15.296024</td>\n",
              "      <td>-2.700372</td>\n",
              "      <td>0</td>\n",
              "      <td>1</td>\n",
              "    </tr>\n",
              "    <tr>\n",
              "      <th>255</th>\n",
              "      <td>10.1.2.249</td>\n",
              "      <td>4353</td>\n",
              "      <td>112.0</td>\n",
              "      <td>5.876777</td>\n",
              "      <td>9.332721</td>\n",
              "      <td>102.0</td>\n",
              "      <td>4</td>\n",
              "      <td>15.083615</td>\n",
              "      <td>-14.277177</td>\n",
              "      <td>1</td>\n",
              "      <td>1</td>\n",
              "    </tr>\n",
              "    <tr>\n",
              "      <th>282</th>\n",
              "      <td>10.1.2.314</td>\n",
              "      <td>2891</td>\n",
              "      <td>75.0</td>\n",
              "      <td>5.312227</td>\n",
              "      <td>14.274740</td>\n",
              "      <td>131.0</td>\n",
              "      <td>2</td>\n",
              "      <td>10.515108</td>\n",
              "      <td>-12.612373</td>\n",
              "      <td>0</td>\n",
              "      <td>1</td>\n",
              "    </tr>\n",
              "    <tr>\n",
              "      <th>286</th>\n",
              "      <td>10.1.2.323</td>\n",
              "      <td>1408</td>\n",
              "      <td>43.5</td>\n",
              "      <td>7.045714</td>\n",
              "      <td>29.719261</td>\n",
              "      <td>458.0</td>\n",
              "      <td>3</td>\n",
              "      <td>3.392836</td>\n",
              "      <td>-0.158464</td>\n",
              "      <td>0</td>\n",
              "      <td>1</td>\n",
              "    </tr>\n",
              "    <tr>\n",
              "      <th>311</th>\n",
              "      <td>10.1.2.386</td>\n",
              "      <td>4326</td>\n",
              "      <td>108.0</td>\n",
              "      <td>5.910543</td>\n",
              "      <td>9.392370</td>\n",
              "      <td>110.0</td>\n",
              "      <td>4</td>\n",
              "      <td>15.143045</td>\n",
              "      <td>-14.360385</td>\n",
              "      <td>1</td>\n",
              "      <td>1</td>\n",
              "    </tr>\n",
              "    <tr>\n",
              "      <th>331</th>\n",
              "      <td>10.1.2.432</td>\n",
              "      <td>1437</td>\n",
              "      <td>40.5</td>\n",
              "      <td>6.445596</td>\n",
              "      <td>29.176880</td>\n",
              "      <td>466.0</td>\n",
              "      <td>5</td>\n",
              "      <td>3.213317</td>\n",
              "      <td>1.659870</td>\n",
              "      <td>0</td>\n",
              "      <td>1</td>\n",
              "    </tr>\n",
              "    <tr>\n",
              "      <th>357</th>\n",
              "      <td>10.1.2.486</td>\n",
              "      <td>4251</td>\n",
              "      <td>114.0</td>\n",
              "      <td>6.316695</td>\n",
              "      <td>9.571059</td>\n",
              "      <td>99.0</td>\n",
              "      <td>4</td>\n",
              "      <td>15.463327</td>\n",
              "      <td>-14.083534</td>\n",
              "      <td>1</td>\n",
              "      <td>1</td>\n",
              "    </tr>\n",
              "    <tr>\n",
              "      <th>370</th>\n",
              "      <td>10.1.2.63</td>\n",
              "      <td>4372</td>\n",
              "      <td>121.0</td>\n",
              "      <td>6.435374</td>\n",
              "      <td>9.268588</td>\n",
              "      <td>118.0</td>\n",
              "      <td>4</td>\n",
              "      <td>15.612681</td>\n",
              "      <td>-14.118538</td>\n",
              "      <td>1</td>\n",
              "      <td>1</td>\n",
              "    </tr>\n",
              "    <tr>\n",
              "      <th>373</th>\n",
              "      <td>10.1.2.67</td>\n",
              "      <td>1364</td>\n",
              "      <td>40.0</td>\n",
              "      <td>6.976608</td>\n",
              "      <td>30.748349</td>\n",
              "      <td>229.0</td>\n",
              "      <td>3</td>\n",
              "      <td>-0.750395</td>\n",
              "      <td>-7.376769</td>\n",
              "      <td>0</td>\n",
              "      <td>1</td>\n",
              "    </tr>\n",
              "    <tr>\n",
              "      <th>381</th>\n",
              "      <td>10.1.2.86</td>\n",
              "      <td>4307</td>\n",
              "      <td>111.0</td>\n",
              "      <td>6.083882</td>\n",
              "      <td>9.441013</td>\n",
              "      <td>122.0</td>\n",
              "      <td>4</td>\n",
              "      <td>15.349834</td>\n",
              "      <td>-14.360634</td>\n",
              "      <td>1</td>\n",
              "      <td>1</td>\n",
              "    </tr>\n",
              "  </tbody>\n",
              "</table>\n",
              "</div>"
            ],
            "text/plain": [
              "     ip_address  total_count  daily_counts  is_weekend_ratio    td_mean  \\\n",
              "9     10.1.1.12         1392          40.0          4.974249  30.152408   \n",
              "37   10.1.1.186         1372          37.0          4.965217  30.557987   \n",
              "62   10.1.1.249         4301         116.5          6.004886   9.459535   \n",
              "118  10.1.1.386         4300         118.5          6.388316   9.453361   \n",
              "164  10.1.1.486         4317         117.0          5.611026   9.417285   \n",
              "177   10.1.1.63         4339         112.0          6.136513   9.368142   \n",
              "183   10.1.1.73         1484          40.5          5.480349  28.191504   \n",
              "188   10.1.1.86         4293         113.0          6.276271   9.456897   \n",
              "225  10.1.2.178         1400          39.0          7.284024  29.964975   \n",
              "233  10.1.2.195         2859          76.5          6.919668  14.448915   \n",
              "255  10.1.2.249         4353         112.0          5.876777   9.332721   \n",
              "282  10.1.2.314         2891          75.0          5.312227  14.274740   \n",
              "286  10.1.2.323         1408          43.5          7.045714  29.719261   \n",
              "311  10.1.2.386         4326         108.0          5.910543   9.392370   \n",
              "331  10.1.2.432         1437          40.5          6.445596  29.176880   \n",
              "357  10.1.2.486         4251         114.0          6.316695   9.571059   \n",
              "370   10.1.2.63         4372         121.0          6.435374   9.268588   \n",
              "373   10.1.2.67         1364          40.0          6.976608  30.748349   \n",
              "381   10.1.2.86         4307         111.0          6.083882   9.441013   \n",
              "\n",
              "     td_max  cluster  tsne-2d-one  tsne-2d-two  anomaly_isolated  anomaly_svm  \n",
              "9     250.0        0    -9.109499    13.379926                 0            1  \n",
              "37    308.0        0    -7.619674    13.520933                 0            1  \n",
              "62    101.0        4    15.251837   -14.266325                 1            1  \n",
              "118   104.0        4    15.563724   -14.071769                 1            1  \n",
              "164   108.0        4    14.919126   -14.328329                 1            1  \n",
              "177   101.0        4    15.361731   -14.173064                 1            1  \n",
              "183   195.0        0   -11.796299     9.849650                 0            1  \n",
              "188   110.0        4    15.410590   -14.102712                 1            1  \n",
              "225   258.0        3     0.878771    -6.899545                 0            1  \n",
              "233   206.0        2    15.296024    -2.700372                 0            1  \n",
              "255   102.0        4    15.083615   -14.277177                 1            1  \n",
              "282   131.0        2    10.515108   -12.612373                 0            1  \n",
              "286   458.0        3     3.392836    -0.158464                 0            1  \n",
              "311   110.0        4    15.143045   -14.360385                 1            1  \n",
              "331   466.0        5     3.213317     1.659870                 0            1  \n",
              "357    99.0        4    15.463327   -14.083534                 1            1  \n",
              "370   118.0        4    15.612681   -14.118538                 1            1  \n",
              "373   229.0        3    -0.750395    -7.376769                 0            1  \n",
              "381   122.0        4    15.349834   -14.360634                 1            1  "
            ]
          },
          "execution_count": 104,
          "metadata": {},
          "output_type": "execute_result"
        }
      ]
    },
    {
      "cell_type": "markdown",
      "metadata": {
        "id": "zOp5itAalV2Y"
      },
      "source": [
        "# Performance of the Algorithm"
      ]
    },
    {
      "cell_type": "markdown",
      "metadata": {
        "id": "3roEOI6jlV2Y"
      },
      "source": [
        "We must manually categorise the data and examine the performance of the individual algos because it is unsupervised."
      ]
    },
    {
      "cell_type": "code",
      "metadata": {
        "id": "Jr7tNvyclV2Z"
      },
      "source": [
        "total_counts_condition = (final_dataset['total_count'] >= final_dataset['total_count'].quantile(0.90)) \n",
        "daily_counts_condition =  (final_dataset['daily_counts'] >= final_dataset['daily_counts'].quantile(0.90))"
      ],
      "execution_count": null,
      "outputs": []
    },
    {
      "cell_type": "code",
      "metadata": {
        "id": "mePxMroUlV2Z"
      },
      "source": [
        "final_dataset['anomaly_manual'] = (total_counts_condition | daily_counts_condition).astype(np.int)"
      ],
      "execution_count": null,
      "outputs": []
    },
    {
      "cell_type": "code",
      "metadata": {
        "id": "YfWavhrrlV2a",
        "outputId": "02087366-938a-4e4a-f25d-f62cbedf0201"
      },
      "source": [
        "final_dataset.head()"
      ],
      "execution_count": null,
      "outputs": [
        {
          "data": {
            "text/html": [
              "<div>\n",
              "<style scoped>\n",
              "    .dataframe tbody tr th:only-of-type {\n",
              "        vertical-align: middle;\n",
              "    }\n",
              "\n",
              "    .dataframe tbody tr th {\n",
              "        vertical-align: top;\n",
              "    }\n",
              "\n",
              "    .dataframe thead th {\n",
              "        text-align: right;\n",
              "    }\n",
              "</style>\n",
              "<table border=\"1\" class=\"dataframe\">\n",
              "  <thead>\n",
              "    <tr style=\"text-align: right;\">\n",
              "      <th></th>\n",
              "      <th>ip_address</th>\n",
              "      <th>total_count</th>\n",
              "      <th>daily_counts</th>\n",
              "      <th>is_weekend_ratio</th>\n",
              "      <th>td_mean</th>\n",
              "      <th>td_max</th>\n",
              "      <th>cluster</th>\n",
              "      <th>tsne-2d-one</th>\n",
              "      <th>tsne-2d-two</th>\n",
              "      <th>anomaly_isolated</th>\n",
              "      <th>anomaly_svm</th>\n",
              "      <th>anomaly_manual</th>\n",
              "    </tr>\n",
              "  </thead>\n",
              "  <tbody>\n",
              "    <tr>\n",
              "      <th>0</th>\n",
              "      <td>10.1.1.1</td>\n",
              "      <td>1446</td>\n",
              "      <td>40.0</td>\n",
              "      <td>6.194030</td>\n",
              "      <td>28.999308</td>\n",
              "      <td>362.0</td>\n",
              "      <td>5</td>\n",
              "      <td>1.193606</td>\n",
              "      <td>3.765247</td>\n",
              "      <td>0</td>\n",
              "      <td>0</td>\n",
              "      <td>0</td>\n",
              "    </tr>\n",
              "    <tr>\n",
              "      <th>1</th>\n",
              "      <td>10.1.1.100</td>\n",
              "      <td>2860</td>\n",
              "      <td>78.0</td>\n",
              "      <td>6.204030</td>\n",
              "      <td>14.427072</td>\n",
              "      <td>185.0</td>\n",
              "      <td>2</td>\n",
              "      <td>14.850821</td>\n",
              "      <td>-6.476457</td>\n",
              "      <td>0</td>\n",
              "      <td>0</td>\n",
              "      <td>0</td>\n",
              "    </tr>\n",
              "    <tr>\n",
              "      <th>2</th>\n",
              "      <td>10.1.1.101</td>\n",
              "      <td>1465</td>\n",
              "      <td>40.0</td>\n",
              "      <td>6.146341</td>\n",
              "      <td>28.520492</td>\n",
              "      <td>211.0</td>\n",
              "      <td>1</td>\n",
              "      <td>-8.911812</td>\n",
              "      <td>-1.137202</td>\n",
              "      <td>0</td>\n",
              "      <td>0</td>\n",
              "      <td>0</td>\n",
              "    </tr>\n",
              "    <tr>\n",
              "      <th>3</th>\n",
              "      <td>10.1.1.106</td>\n",
              "      <td>1408</td>\n",
              "      <td>35.5</td>\n",
              "      <td>5.458716</td>\n",
              "      <td>29.771144</td>\n",
              "      <td>319.0</td>\n",
              "      <td>0</td>\n",
              "      <td>-5.811096</td>\n",
              "      <td>11.753377</td>\n",
              "      <td>0</td>\n",
              "      <td>0</td>\n",
              "      <td>0</td>\n",
              "    </tr>\n",
              "    <tr>\n",
              "      <th>4</th>\n",
              "      <td>10.1.1.109</td>\n",
              "      <td>1459</td>\n",
              "      <td>42.5</td>\n",
              "      <td>5.786047</td>\n",
              "      <td>28.711934</td>\n",
              "      <td>278.0</td>\n",
              "      <td>0</td>\n",
              "      <td>-6.784428</td>\n",
              "      <td>7.719343</td>\n",
              "      <td>0</td>\n",
              "      <td>0</td>\n",
              "      <td>0</td>\n",
              "    </tr>\n",
              "  </tbody>\n",
              "</table>\n",
              "</div>"
            ],
            "text/plain": [
              "   ip_address  total_count  daily_counts  is_weekend_ratio    td_mean  td_max  \\\n",
              "0    10.1.1.1         1446          40.0          6.194030  28.999308   362.0   \n",
              "1  10.1.1.100         2860          78.0          6.204030  14.427072   185.0   \n",
              "2  10.1.1.101         1465          40.0          6.146341  28.520492   211.0   \n",
              "3  10.1.1.106         1408          35.5          5.458716  29.771144   319.0   \n",
              "4  10.1.1.109         1459          42.5          5.786047  28.711934   278.0   \n",
              "\n",
              "   cluster  tsne-2d-one  tsne-2d-two  anomaly_isolated  anomaly_svm  \\\n",
              "0        5     1.193606     3.765247                 0            0   \n",
              "1        2    14.850821    -6.476457                 0            0   \n",
              "2        1    -8.911812    -1.137202                 0            0   \n",
              "3        0    -5.811096    11.753377                 0            0   \n",
              "4        0    -6.784428     7.719343                 0            0   \n",
              "\n",
              "   anomaly_manual  \n",
              "0               0  \n",
              "1               0  \n",
              "2               0  \n",
              "3               0  \n",
              "4               0  "
            ]
          },
          "execution_count": 107,
          "metadata": {},
          "output_type": "execute_result"
        }
      ]
    },
    {
      "cell_type": "code",
      "metadata": {
        "id": "sGmMTjBPlV2a"
      },
      "source": [
        "from sklearn.metrics import f1_score, roc_auc_score, accuracy_score, confusion_matrix"
      ],
      "execution_count": null,
      "outputs": []
    },
    {
      "cell_type": "code",
      "metadata": {
        "id": "04MrJ70_lV2a"
      },
      "source": [
        "def get_sensitivity_specificity(y_true, y_pred):\n",
        "    cf = confusion_matrix(y_true, y_pred)\n",
        "    sensitivity = cf[0,0]/(cf[:,0].sum())\n",
        "    specificity = cf[1,1]/(cf[:,1].sum())\n",
        "    return sensitivity, specificity"
      ],
      "execution_count": null,
      "outputs": []
    },
    {
      "cell_type": "code",
      "metadata": {
        "id": "PCwNpOzAlV2b"
      },
      "source": [
        "f1_iso = f1_score(final_dataset['anomaly_manual'],final_dataset['anomaly_isolated'])\n",
        "acc_iso = accuracy_score(final_dataset['anomaly_manual'],final_dataset['anomaly_isolated'])\n",
        "roc_iso = roc_auc_score(final_dataset['anomaly_manual'],final_dataset['anomaly_isolated'])\n",
        "sen_iso, spec_iso = get_sensitivity_specificity(final_dataset['anomaly_manual'],final_dataset['anomaly_isolated'])\n",
        "met_iso = {\n",
        "           'f1_score': f1_iso,\n",
        "           'accuracy': acc_iso,\n",
        "           'roc_score': roc_iso,\n",
        "           'sensitivity': sen_iso,\n",
        "           'specificity': spec_iso\n",
        "          }"
      ],
      "execution_count": null,
      "outputs": []
    },
    {
      "cell_type": "code",
      "metadata": {
        "id": "_2ccl51FlV2c"
      },
      "source": [
        "f1_kmeans = f1_score(final_dataset['anomaly_manual'],final_dataset['anomaly_kmeans'])\n",
        "acc_kmeans = accuracy_score(final_dataset['anomaly_manual'],final_dataset['anomaly_kmeans'])\n",
        "roc_kmeans = roc_auc_score(final_dataset['anomaly_manual'],final_dataset['anomaly_kmeans'])\n",
        "sen_kmeans, spec_kmeans = get_sensitivity_specificity(final_dataset['anomaly_manual'],final_dataset['anomaly_kmeans'])\n",
        "met_kmeans = {\n",
        "           'f1_score': f1_kmeans,\n",
        "           'accuracy': acc_kmeans,\n",
        "           'roc_score': roc_kmeans,\n",
        "           'sensitivity': sen_kmeans,\n",
        "           'specificity': spec_kmeans\n",
        "          }"
      ],
      "execution_count": null,
      "outputs": []
    },
    {
      "cell_type": "code",
      "metadata": {
        "id": "OTXxs_D2lV2c"
      },
      "source": [
        "f1_svm = f1_score(final_dataset['anomaly_manual'],final_dataset['anomaly_svm'])\n",
        "acc_svm = accuracy_score(final_dataset['anomaly_manual'],final_dataset['anomaly_svm'])\n",
        "roc_svm = roc_auc_score(final_dataset['anomaly_manual'],final_dataset['anomaly_svm'])\n",
        "sen_svm, spec_svm = get_sensitivity_specificity(final_dataset['anomaly_manual'],final_dataset['anomaly_svm'])\n",
        "met_svm = {\n",
        "           'f1_score': f1_svm,\n",
        "           'accuracy': acc_svm,\n",
        "           'roc_score': roc_svm,\n",
        "           'sensitivity': sen_svm,\n",
        "           'specificity': spec_svm\n",
        "          }"
      ],
      "execution_count": null,
      "outputs": []
    },
    {
      "cell_type": "code",
      "metadata": {
        "id": "vO2YD5OdlV2d"
      },
      "source": [
        "metrics = {'isolated_forest': met_iso,\n",
        "           'kmeans': met_kmeans,\n",
        "           'svm': met_svm\n",
        "          }"
      ],
      "execution_count": null,
      "outputs": []
    },
    {
      "cell_type": "code",
      "metadata": {
        "id": "lHlR7Dd1lV2d"
      },
      "source": [
        "all_metrics = pd.DataFrame.from_dict(metrics)"
      ],
      "execution_count": null,
      "outputs": []
    },
    {
      "cell_type": "code",
      "metadata": {
        "id": "E1ERJ6talV2e",
        "outputId": "40589fd1-9c36-4467-e5ff-c7c62b9a2c7b"
      },
      "source": [
        "all_metrics"
      ],
      "execution_count": null,
      "outputs": [
        {
          "data": {
            "text/html": [
              "<div>\n",
              "<style scoped>\n",
              "    .dataframe tbody tr th:only-of-type {\n",
              "        vertical-align: middle;\n",
              "    }\n",
              "\n",
              "    .dataframe tbody tr th {\n",
              "        vertical-align: top;\n",
              "    }\n",
              "\n",
              "    .dataframe thead th {\n",
              "        text-align: right;\n",
              "    }\n",
              "</style>\n",
              "<table border=\"1\" class=\"dataframe\">\n",
              "  <thead>\n",
              "    <tr style=\"text-align: right;\">\n",
              "      <th></th>\n",
              "      <th>isolated_forest</th>\n",
              "      <th>kmeans</th>\n",
              "      <th>svm</th>\n",
              "    </tr>\n",
              "  </thead>\n",
              "  <tbody>\n",
              "    <tr>\n",
              "      <th>f1_score</th>\n",
              "      <td>0.303030</td>\n",
              "      <td>0.273333</td>\n",
              "      <td>0.270270</td>\n",
              "    </tr>\n",
              "    <tr>\n",
              "      <th>accuracy</th>\n",
              "      <td>0.880829</td>\n",
              "      <td>0.879637</td>\n",
              "      <td>0.860104</td>\n",
              "    </tr>\n",
              "    <tr>\n",
              "      <th>roc_score</th>\n",
              "      <td>0.589399</td>\n",
              "      <td>0.574681</td>\n",
              "      <td>0.577314</td>\n",
              "    </tr>\n",
              "    <tr>\n",
              "      <th>sensitivity</th>\n",
              "      <td>0.880000</td>\n",
              "      <td>0.878427</td>\n",
              "      <td>0.877384</td>\n",
              "    </tr>\n",
              "    <tr>\n",
              "      <th>specificity</th>\n",
              "      <td>0.909091</td>\n",
              "      <td>0.714286</td>\n",
              "      <td>0.526316</td>\n",
              "    </tr>\n",
              "  </tbody>\n",
              "</table>\n",
              "</div>"
            ],
            "text/plain": [
              "             isolated_forest    kmeans       svm\n",
              "f1_score            0.303030  0.273333  0.270270\n",
              "accuracy            0.880829  0.879637  0.860104\n",
              "roc_score           0.589399  0.574681  0.577314\n",
              "sensitivity         0.880000  0.878427  0.877384\n",
              "specificity         0.909091  0.714286  0.526316"
            ]
          },
          "execution_count": 120,
          "metadata": {},
          "output_type": "execute_result"
        }
      ]
    },
    {
      "cell_type": "markdown",
      "metadata": {
        "id": "VZTgjfBclf5v"
      },
      "source": [
        "# Ensemble models for Classification"
      ]
    },
    {
      "cell_type": "code",
      "metadata": {
        "id": "Y4BADvD_lV2e"
      },
      "source": [
        "from sklearn.preprocessing import LabelEncoder\n",
        "final_dataset['ip_address'] = LabelEncoder().fit_transform(final_dataset.iloc[:, -1])"
      ],
      "execution_count": null,
      "outputs": []
    },
    {
      "cell_type": "code",
      "metadata": {
        "id": "Hz7eO9TflV2e"
      },
      "source": [
        "features = ['ip_address', 'total_count', 'daily_counts', 'is_weekend_ratio', 'td_mean', 'td_max']\n",
        "X = final_dataset[features]\n",
        "y = final_dataset['anomaly_isolated']"
      ],
      "execution_count": null,
      "outputs": []
    },
    {
      "cell_type": "code",
      "metadata": {
        "id": "1YyqHKrYlV2f",
        "outputId": "7a218564-29fd-41a4-eabf-97b8e465591b"
      },
      "source": [
        "X, y = final_dataset[features], final_dataset['anomaly_isolated']\n",
        "X.shape, y.shape"
      ],
      "execution_count": null,
      "outputs": [
        {
          "data": {
            "text/plain": [
              "((386, 6), (386,))"
            ]
          },
          "execution_count": 123,
          "metadata": {},
          "output_type": "execute_result"
        }
      ]
    },
    {
      "cell_type": "markdown",
      "metadata": {
        "id": "4_TX46NwlV2f"
      },
      "source": [
        "## Baseline Classifier"
      ]
    },
    {
      "cell_type": "code",
      "metadata": {
        "id": "3jdKYI47lV2g",
        "outputId": "d804301c-ddda-455f-a841-64c549a85e3f"
      },
      "source": [
        "from sklearn.ensemble import RandomForestClassifier\n",
        "from sklearn.multiclass import OneVsRestClassifier\n",
        "from sklearn.neighbors import KNeighborsClassifier\n",
        "from sklearn.svm import SVC\n",
        "from sklearn.naive_bayes import GaussianNB\n",
        "from sklearn.ensemble import StackingClassifier\n",
        "from sklearn.linear_model import LogisticRegression\n",
        "\n",
        "from sklearn.model_selection import cross_val_score\n",
        "from sklearn.model_selection import RepeatedStratifiedKFold\n",
        "\n",
        "rf = OneVsRestClassifier(estimator = GaussianNB())\n",
        "\n",
        "# Create RepeatedStratifiedKFold cross-validator with 10 folds, 3 repeats and a seed of 1.\n",
        "cv = RepeatedStratifiedKFold(n_splits=10, n_repeats=3, random_state=20)\n",
        "\n",
        "# Calculating accuracy using `cross_val_score()` with model instantiated, data to fit, \n",
        "# target variable, 'accuracy' scoring, cross validator, n_jobs=-1, and error_score set to 'raise'\n",
        "n_scores = cross_val_score(rf, X, y, scoring='f1_weighted', cv=cv, error_score='raise')\n",
        "\n",
        "# Print mean and standard deviation of n_scores: \n",
        "print(n_scores)\n",
        "print('Baseline scores \\n mean f1 weighted: %.3f with a %.3f standard deviation in scores ' % (np.mean(n_scores), np.std(n_scores)))"
      ],
      "execution_count": null,
      "outputs": [
        {
          "name": "stdout",
          "output_type": "stream",
          "text": [
            "[0.79141939 0.83496683 0.83327483 0.91673813 0.73727624 0.72792793\n",
            " 0.76163004 0.81489899 0.76851852 0.83399471 0.77161172 0.85087885\n",
            " 0.89009009 0.83643384 0.76115527 0.75250965 0.83280423 0.80009158\n",
            " 0.87198912 0.8476431  0.85413595 0.76193536 0.83134433 0.83474903\n",
            " 0.91744472 0.71603472 0.90940171 0.69002363 0.80009158 0.78549383]\n",
            "Baseline scores \n",
            " mean f1 weighted: 0.811 with a 0.058 standard deviation in scores \n"
          ]
        }
      ]
    },
    {
      "cell_type": "markdown",
      "metadata": {
        "id": "KxotQzIflV2g"
      },
      "source": [
        "## Stacking Classifier\n",
        "\n",
        "Stacking classifier takes:\n",
        "1. estimators: List of baseline classifiers\n",
        "\n",
        "2. final_estimator: Defined meta classifier\n",
        "\n",
        "3. cv: Number of cross validations to perform"
      ]
    },
    {
      "cell_type": "code",
      "metadata": {
        "id": "ItnFiYhBlV2h"
      },
      "source": [
        "def create_stacking_models():\n",
        "    base_models = list()\n",
        "    base_models.append(('KNNC', KNeighborsClassifier(n_neighbors = len(np.unique(y))\n",
        "                                                     , weights = 'distance')\n",
        "                       ))\n",
        "    base_models.append(('SVC', SVC(kernel = 'linear'\n",
        "                                   , class_weight = 'balanced'\n",
        "                                  , break_ties = True)\n",
        "                       ))    \n",
        "    base_models.append(('GNB', GaussianNB()))\n",
        "    base_models.append(('RF', RandomForestClassifier(n_estimators= 200, \n",
        "                                                   oob_score = True, \n",
        "                                                   class_weight = \"balanced\", \n",
        "                                                   random_state = 20, \n",
        "                                                   ccp_alpha = 0.1)\n",
        "                       ))\n",
        "\n",
        "    \n",
        "    meta_model = LogisticRegression()\n",
        "    final_model = StackingClassifier(estimators = base_models, ##Base estimators which will be stacked together\n",
        "                                     final_estimator = meta_model,\n",
        "                                     cv = 5\n",
        "                                    )\n",
        "    return final_model\n",
        "\n",
        "def models_all():\n",
        "    all_models = dict()\n",
        "    all_models['KNNC']= KNeighborsClassifier(n_neighbors = len(np.unique(y))\n",
        "                                             , weights = 'distance')\n",
        "    all_models['SVC']= SVC(kernel = 'linear'\n",
        "                           , class_weight = 'balanced'\n",
        "                          , break_ties = True\n",
        "                          )\n",
        "    all_models['RF']= RandomForestClassifier(n_estimators= 200, \n",
        "                                                   oob_score = True, \n",
        "                                                   class_weight = \"balanced\", \n",
        "                                                   random_state = 20, \n",
        "                                                   ccp_alpha = 0.15)\n",
        "    all_models['GNB'] = GaussianNB()\n",
        "    all_models['Stacking'] = create_stacking_models()\n",
        "    return all_models\n",
        "\n",
        "def evaluate_model(model):\n",
        "    cv = RepeatedStratifiedKFold(n_splits=10, n_repeats=3, random_state=42)\n",
        "    scores = cross_val_score(model, X, y, scoring='f1_weighted', cv=cv, error_score='raise')\n",
        "    return scores"
      ],
      "execution_count": null,
      "outputs": []
    },
    {
      "cell_type": "code",
      "metadata": {
        "scrolled": false,
        "id": "cRNFH_-alV2h",
        "outputId": "ec0f081c-49f0-4c05-f3ac-ea82b1e36c0c"
      },
      "source": [
        "model_results = list()\n",
        "models = models_all()\n",
        "names = list()\n",
        "\n",
        "# Creating a for loop that iterates over each name, model in models dictionary \n",
        "for name, model in models.items():\n",
        "    scores = evaluate_model(model)\n",
        "    model_results.append(scores)\n",
        "    names.append(name)\n",
        "#   print(model_results)\n",
        "    print('>%s %.3f (%.3f) \\n' % (name, np.mean(scores), np.std(scores)))"
      ],
      "execution_count": null,
      "outputs": [
        {
          "name": "stdout",
          "output_type": "stream",
          "text": [
            ">KNNC 0.689 (0.071) \n",
            "\n",
            ">SVC 0.966 (0.024) \n",
            "\n",
            ">RF 0.817 (0.051) \n",
            "\n",
            ">GNB 0.866 (0.044) \n",
            "\n",
            ">Stacking 0.967 (0.021) \n",
            "\n"
          ]
        }
      ]
    },
    {
      "cell_type": "code",
      "metadata": {
        "id": "OtyU1nLKlV2i",
        "outputId": "4dfee2a2-6e4a-4f6e-bddb-f990be6f5737"
      },
      "source": [
        "plt.figure(figsize=(15,5))\n",
        "fig = sns.boxplot(x=names, y=model_results, showmeans=True)\n",
        "plt.title(\"Model Comparisions\")\n",
        "plt.show(fig)"
      ],
      "execution_count": null,
      "outputs": [
        {
          "data": {
            "image/png": "[encoded data removed]",
            "text/plain": [
              "<Figure size 1080x360 with 1 Axes>"
            ]
          },
          "metadata": {
            "needs_background": "light"
          },
          "output_type": "display_data"
        }
      ]
    },
    {
      "cell_type": "markdown",
      "metadata": {
        "id": "jdpXcSKmlV2i"
      },
      "source": [
        "### Conclusion\n",
        "- With a stacking model, we were able to get an F1 score of 96.7%, which was greater than the target of 81.1%"
      ]
    }
  ]
}